{
 "cells": [
  {
   "cell_type": "markdown",
   "metadata": {},
   "source": [
    "<p style=\"border:2px solid black\"> </p>\n",
    "<span style=\"font-family:Lucida Bright;\">\n",
    "<p style=\"margin-bottom:1cm\"></p>\n",
    "<center>\n",
    "<font size=\"7\"><b>Social Data Analysis and</b></font>\n",
    "<p style=\"margin-bottom:0.3cm\"></p>\n",
    "<font size=\"7\"><b>Visualization</b></font>\n",
    "<p style=\"margin-bottom:1cm\"></p>\n",
    "<font size=\"3\"><b>Final Project</b></font>\n",
    "<p style=\"margin-bottom:1cm\"></p>\n",
    "<font size=\"6\"><b>Demographics of Copenhagen</b></font>\n",
    "<p style=\"margin-bottom:0.8cm\"></p>\n",
    "<font size=\"3\"><b>Wojciech Mazurkiewicz, DTU, 14 May 2021</b></font>\n",
    "<p style=\"margin-bottom:1.5cm\"></p>\n",
    "<font size=\"6\"><b>Combining the Data</b></font>\n",
    "<br>\n",
    "<font size=\"3\"><b></b></font>\n",
    "</center>\n",
    "<p style=\"margin-bottom:0.7cm\"></p>\n",
    "<p style=\"border:2px solid black\"> </p>"
   ]
  },
  {
   "cell_type": "markdown",
   "metadata": {
    "toc": true
   },
   "source": [
    "<h1>Table of Contents<span class=\"tocSkip\"></span></h1>\n",
    "<div class=\"toc\"><ul class=\"toc-item\"><li><span><a href=\"#How-to-read-this-notebook\" data-toc-modified-id=\"How-to-read-this-notebook-1\"><span class=\"toc-item-num\">1&nbsp;&nbsp;</span>How to read this notebook</a></span></li><li><span><a href=\"#Introduction\" data-toc-modified-id=\"Introduction-2\"><span class=\"toc-item-num\">2&nbsp;&nbsp;</span>Introduction</a></span></li><li><span><a href=\"#Initialization\" data-toc-modified-id=\"Initialization-3\"><span class=\"toc-item-num\">3&nbsp;&nbsp;</span>Initialization</a></span></li><li><span><a href=\"#Load-data\" data-toc-modified-id=\"Load-data-4\"><span class=\"toc-item-num\">4&nbsp;&nbsp;</span>Load data</a></span></li><li><span><a href=\"#Identify-common-data-categories-in-dataframes-containing-district-information\" data-toc-modified-id=\"Identify-common-data-categories-in-dataframes-containing-district-information-5\"><span class=\"toc-item-num\">5&nbsp;&nbsp;</span>Identify common data categories in dataframes containing district information</a></span></li><li><span><a href=\"#Streamline-district-information\" data-toc-modified-id=\"Streamline-district-information-6\"><span class=\"toc-item-num\">6&nbsp;&nbsp;</span>Streamline district information</a></span></li><li><span><a href=\"#Initialize-the-superset-object\" data-toc-modified-id=\"Initialize-the-superset-object-7\"><span class=\"toc-item-num\">7&nbsp;&nbsp;</span>Initialize the superset object</a></span></li><li><span><a href=\"#Remove-the-column-Quarter\" data-toc-modified-id=\"Remove-the-column-Quarter-8\"><span class=\"toc-item-num\">8&nbsp;&nbsp;</span>Remove the column <code>Quarter</code></a></span></li><li><span><a href=\"#Prepare-dataset-for-inclusion-in-the-superset:-Citizenship\" data-toc-modified-id=\"Prepare-dataset-for-inclusion-in-the-superset:-Citizenship-9\"><span class=\"toc-item-num\">9&nbsp;&nbsp;</span>Prepare dataset for inclusion in the superset: <strong><em>Citizenship</em></strong></a></span><ul class=\"toc-item\"><li><span><a href=\"#Display-the-dataset\" data-toc-modified-id=\"Display-the-dataset-9.1\"><span class=\"toc-item-num\">9.1&nbsp;&nbsp;</span>Display the dataset</a></span></li><li><span><a href=\"#Check-the-number-of-people-before-transformations\" data-toc-modified-id=\"Check-the-number-of-people-before-transformations-9.2\"><span class=\"toc-item-num\">9.2&nbsp;&nbsp;</span>Check the number of people before transformations</a></span></li><li><span><a href=\"#Create-new-columns-containing-the-number-of-people-for-each-citizenship,-age,-and-sex-group\" data-toc-modified-id=\"Create-new-columns-containing-the-number-of-people-for-each-citizenship,-age,-and-sex-group-9.3\"><span class=\"toc-item-num\">9.3&nbsp;&nbsp;</span>Create new columns containing the number of people for each citizenship, age, and sex group</a></span></li><li><span><a href=\"#Express-the-number-of-people-as-fractions-of-the-district-total:\" data-toc-modified-id=\"Express-the-number-of-people-as-fractions-of-the-district-total:-9.4\"><span class=\"toc-item-num\">9.4&nbsp;&nbsp;</span>Express the number of people as fractions of the district-total:</a></span></li><li><span><a href=\"#Check-that-the-sum-of-citizens-looks-right\" data-toc-modified-id=\"Check-that-the-sum-of-citizens-looks-right-9.5\"><span class=\"toc-item-num\">9.5&nbsp;&nbsp;</span>Check that the sum of citizens looks right</a></span></li></ul></li><li><span><a href=\"#Prepare-dataset-for-inclusion:-Dwellings\" data-toc-modified-id=\"Prepare-dataset-for-inclusion:-Dwellings-10\"><span class=\"toc-item-num\">10&nbsp;&nbsp;</span>Prepare dataset for inclusion: <strong><em>Dwellings</em></strong></a></span><ul class=\"toc-item\"><li><span><a href=\"#Display-the-dataset\" data-toc-modified-id=\"Display-the-dataset-10.1\"><span class=\"toc-item-num\">10.1&nbsp;&nbsp;</span>Display the dataset</a></span></li><li><span><a href=\"#Check-the-total-dwelling-area-before-transformations\" data-toc-modified-id=\"Check-the-total-dwelling-area-before-transformations-10.2\"><span class=\"toc-item-num\">10.2&nbsp;&nbsp;</span>Check the total dwelling area before transformations</a></span></li><li><span><a href=\"#Create-new-columns-containing-the-number-of-total-of-square-meters-for-each-dwelling-ownership-group\" data-toc-modified-id=\"Create-new-columns-containing-the-number-of-total-of-square-meters-for-each-dwelling-ownership-group-10.3\"><span class=\"toc-item-num\">10.3&nbsp;&nbsp;</span>Create new columns containing the number of total of square meters for each dwelling ownership group</a></span></li><li><span><a href=\"#Check-if-there-are-any-square-meters-in-the-column:-Unknown\" data-toc-modified-id=\"Check-if-there-are-any-square-meters-in-the-column:-Unknown-10.4\"><span class=\"toc-item-num\">10.4&nbsp;&nbsp;</span>Check if there are any square meters in the column: <code>Unknown</code></a></span></li><li><span><a href=\"#Express-the-areas-as-fractions-of-the-district-total\" data-toc-modified-id=\"Express-the-areas-as-fractions-of-the-district-total-10.5\"><span class=\"toc-item-num\">10.5&nbsp;&nbsp;</span>Express the areas as fractions of the district-total</a></span></li><li><span><a href=\"#Check-that-the-total-area-looks-right\" data-toc-modified-id=\"Check-that-the-total-area-looks-right-10.6\"><span class=\"toc-item-num\">10.6&nbsp;&nbsp;</span>Check that the total area looks right</a></span></li></ul></li><li><span><a href=\"#Prepare-dataset-for-inclusion:-Family-Type-and-Children\" data-toc-modified-id=\"Prepare-dataset-for-inclusion:-Family-Type-and-Children-11\"><span class=\"toc-item-num\">11&nbsp;&nbsp;</span>Prepare dataset for inclusion: <strong><em>Family Type and Children</em></strong></a></span><ul class=\"toc-item\"><li><span><a href=\"#Display-the-dataset\" data-toc-modified-id=\"Display-the-dataset-11.1\"><span class=\"toc-item-num\">11.1&nbsp;&nbsp;</span>Display the dataset</a></span></li><li><span><a href=\"#Check-the-total-total-number-of-families-before-transformations\" data-toc-modified-id=\"Check-the-total-total-number-of-families-before-transformations-11.2\"><span class=\"toc-item-num\">11.2&nbsp;&nbsp;</span>Check the total total number of families before transformations</a></span></li><li><span><a href=\"#Create-new-columns-containing-the-number-of-families-for-each-family-type-and-number-of-children\" data-toc-modified-id=\"Create-new-columns-containing-the-number-of-families-for-each-family-type-and-number-of-children-11.3\"><span class=\"toc-item-num\">11.3&nbsp;&nbsp;</span>Create new columns containing the number of families for each family type and number of children</a></span></li><li><span><a href=\"#Express-the-number-of-families-as-fractions-of-the-district-total\" data-toc-modified-id=\"Express-the-number-of-families-as-fractions-of-the-district-total-11.4\"><span class=\"toc-item-num\">11.4&nbsp;&nbsp;</span>Express the number of families as fractions of the district-total</a></span></li><li><span><a href=\"#Check-that-the-number-of-families-looks-right\" data-toc-modified-id=\"Check-that-the-number-of-families-looks-right-11.5\"><span class=\"toc-item-num\">11.5&nbsp;&nbsp;</span>Check that the number of families looks right</a></span></li></ul></li><li><span><a href=\"#Prepare-dataset-for-inclusion:-Income\" data-toc-modified-id=\"Prepare-dataset-for-inclusion:-Income-12\"><span class=\"toc-item-num\">12&nbsp;&nbsp;</span>Prepare dataset for inclusion: <strong><em>Income</em></strong></a></span><ul class=\"toc-item\"><li><span><a href=\"#Display-the-dataset\" data-toc-modified-id=\"Display-the-dataset-12.1\"><span class=\"toc-item-num\">12.1&nbsp;&nbsp;</span>Display the dataset</a></span></li><li><span><a href=\"#Check-the-number-of-people\" data-toc-modified-id=\"Check-the-number-of-people-12.2\"><span class=\"toc-item-num\">12.2&nbsp;&nbsp;</span>Check the number of people</a></span></li><li><span><a href=\"#Remove-columns-containing-total-income-and-number-of-people-per-district.\" data-toc-modified-id=\"Remove-columns-containing-total-income-and-number-of-people-per-district.-12.3\"><span class=\"toc-item-num\">12.3&nbsp;&nbsp;</span>Remove columns containing total income and number of people per district.</a></span></li><li><span><a href=\"#Check-the-total-income-before-transformations\" data-toc-modified-id=\"Check-the-total-income-before-transformations-12.4\"><span class=\"toc-item-num\">12.4&nbsp;&nbsp;</span>Check the total income before transformations</a></span></li><li><span><a href=\"#Create-new-columns-containing-the-income-data-for-each-sex\" data-toc-modified-id=\"Create-new-columns-containing-the-income-data-for-each-sex-12.5\"><span class=\"toc-item-num\">12.5&nbsp;&nbsp;</span>Create new columns containing the income data for each sex</a></span></li><li><span><a href=\"#Check-that-the-total-average-income-looks-right\" data-toc-modified-id=\"Check-that-the-total-average-income-looks-right-12.6\"><span class=\"toc-item-num\">12.6&nbsp;&nbsp;</span>Check that the total average income looks right</a></span></li></ul></li><li><span><a href=\"#Prepare-dataset-for-inclusion:-Lifespan\" data-toc-modified-id=\"Prepare-dataset-for-inclusion:-Lifespan-13\"><span class=\"toc-item-num\">13&nbsp;&nbsp;</span>Prepare dataset for inclusion: <strong><em>Lifespan</em></strong></a></span><ul class=\"toc-item\"><li><span><a href=\"#Display-the-dataset\" data-toc-modified-id=\"Display-the-dataset-13.1\"><span class=\"toc-item-num\">13.1&nbsp;&nbsp;</span>Display the dataset</a></span></li></ul></li><li><span><a href=\"#Prepare-dataset-for-inclusion-in-the-superset:-Marital-Status\" data-toc-modified-id=\"Prepare-dataset-for-inclusion-in-the-superset:-Marital-Status-14\"><span class=\"toc-item-num\">14&nbsp;&nbsp;</span>Prepare dataset for inclusion in the superset: <strong><em>Marital Status</em></strong></a></span><ul class=\"toc-item\"><li><span><a href=\"#Display-the-dataset\" data-toc-modified-id=\"Display-the-dataset-14.1\"><span class=\"toc-item-num\">14.1&nbsp;&nbsp;</span>Display the dataset</a></span></li><li><span><a href=\"#Check-the-number-of-people-before-transformations\" data-toc-modified-id=\"Check-the-number-of-people-before-transformations-14.2\"><span class=\"toc-item-num\">14.2&nbsp;&nbsp;</span>Check the number of people before transformations</a></span></li><li><span><a href=\"#Create-new-columns-containing-the-number-of-people-for-each-marital-status,-age-group,-and-sex\" data-toc-modified-id=\"Create-new-columns-containing-the-number-of-people-for-each-marital-status,-age-group,-and-sex-14.3\"><span class=\"toc-item-num\">14.3&nbsp;&nbsp;</span>Create new columns containing the number of people for each marital status, age group, and sex</a></span></li><li><span><a href=\"#Express-the-number-of-people-as-fractions-of-the-district-total\" data-toc-modified-id=\"Express-the-number-of-people-as-fractions-of-the-district-total-14.4\"><span class=\"toc-item-num\">14.4&nbsp;&nbsp;</span>Express the number of people as fractions of the district-total</a></span></li><li><span><a href=\"#Check-that-the-total-number-of-people-looks-right\" data-toc-modified-id=\"Check-that-the-total-number-of-people-looks-right-14.5\"><span class=\"toc-item-num\">14.5&nbsp;&nbsp;</span>Check that the total number of people looks right</a></span></li><li><span><a href=\"#Remove-the-column-Number-of-people\" data-toc-modified-id=\"Remove-the-column-Number-of-people-14.6\"><span class=\"toc-item-num\">14.6&nbsp;&nbsp;</span>Remove the column <code>Number of people</code></a></span></li></ul></li><li><span><a href=\"#Prepare-dataset-for-inclusion-in-the-superset:-Population-Movement\" data-toc-modified-id=\"Prepare-dataset-for-inclusion-in-the-superset:-Population-Movement-15\"><span class=\"toc-item-num\">15&nbsp;&nbsp;</span>Prepare dataset for inclusion in the superset: <strong><em>Population Movement</em></strong></a></span><ul class=\"toc-item\"><li><span><a href=\"#Display-the-dataset\" data-toc-modified-id=\"Display-the-dataset-15.1\"><span class=\"toc-item-num\">15.1&nbsp;&nbsp;</span>Display the dataset</a></span></li><li><span><a href=\"#Express-the-number-of-people-as-fractions-of-the-district-total:\" data-toc-modified-id=\"Express-the-number-of-people-as-fractions-of-the-district-total:-15.2\"><span class=\"toc-item-num\">15.2&nbsp;&nbsp;</span>Express the number of people as fractions of the district-total:</a></span></li></ul></li><li><span><a href=\"#Make-sure-all-the-tables-have-the-same-number-of-levels-in-the-column-index\" data-toc-modified-id=\"Make-sure-all-the-tables-have-the-same-number-of-levels-in-the-column-index-16\"><span class=\"toc-item-num\">16&nbsp;&nbsp;</span>Make sure all the tables have the same number of levels in the column index</a></span></li><li><span><a href=\"#Create-the-superset\" data-toc-modified-id=\"Create-the-superset-17\"><span class=\"toc-item-num\">17&nbsp;&nbsp;</span>Create the superset</a></span><ul class=\"toc-item\"><li><span><a href=\"#Merge-the-prepared-datasets\" data-toc-modified-id=\"Merge-the-prepared-datasets-17.1\"><span class=\"toc-item-num\">17.1&nbsp;&nbsp;</span>Merge the prepared datasets</a></span><ul class=\"toc-item\"><li><span><a href=\"#Sort-columns\" data-toc-modified-id=\"Sort-columns-17.1.1\"><span class=\"toc-item-num\">17.1.1&nbsp;&nbsp;</span>Sort columns</a></span></li><li><span><a href=\"#Save-superset-dataframe\" data-toc-modified-id=\"Save-superset-dataframe-17.1.2\"><span class=\"toc-item-num\">17.1.2&nbsp;&nbsp;</span>Save superset dataframe</a></span></li><li><span><a href=\"#Show-data-for-a-chosen-district\" data-toc-modified-id=\"Show-data-for-a-chosen-district-17.1.3\"><span class=\"toc-item-num\">17.1.3&nbsp;&nbsp;</span>Show data for a chosen district</a></span></li></ul></li></ul></li><li><span><a href=\"#Conclusion\" data-toc-modified-id=\"Conclusion-18\"><span class=\"toc-item-num\">18&nbsp;&nbsp;</span>Conclusion</a></span></li></ul></div>"
   ]
  },
  {
   "cell_type": "markdown",
   "metadata": {},
   "source": [
    "# How to read this notebook\n",
    "\n",
    "<p style=\"border:2px solid black\"> </p>"
   ]
  },
  {
   "cell_type": "markdown",
   "metadata": {},
   "source": [
    "Please note that the pre-rendered outputs will first display properly when the notebook is __trusted__.\n",
    "\n",
    "If you are viewing the HTML-version of the notebook and would like to download the .ipynm file, you can do it [here](https://social-data-analysis-and-visualization-final-project.s3.eu-central-1.amazonaws.com/combining_data.ipynb)."
   ]
  },
  {
   "cell_type": "markdown",
   "metadata": {},
   "source": [
    "# Introduction\n",
    "\n",
    "<p style=\"border:2px solid black\"> </p>"
   ]
  },
  {
   "cell_type": "markdown",
   "metadata": {},
   "source": [
    "In this study I would like to investigate how different demographic measures develop over time in different districts of Copenhagen. If time allows, I would also like to create a predictive model for some the quantities of interest. To accomplish that, it would be beneficial to create a super-dataset containing combined information from all the datasets at our disposal, such as each row of the resulting set would represent the values of different quantities in a given district at a certain point in time.. In this notebook, we will create such a dataset."
   ]
  },
  {
   "cell_type": "markdown",
   "metadata": {},
   "source": [
    "# Initialization\n",
    "<p style=\"border:2px solid black\"> </p>"
   ]
  },
  {
   "cell_type": "markdown",
   "metadata": {},
   "source": [
    "For initialization, we run the procedure from the [Initialization notebook](https://social-data-analysis-and-visualization-final-project.s3.eu-central-1.amazonaws.com/initialization.html)."
   ]
  },
  {
   "cell_type": "code",
   "execution_count": null,
   "metadata": {
    "ExecuteTime": {
     "end_time": "2021-05-14T22:36:27.239208Z",
     "start_time": "2021-05-14T22:36:22.008635Z"
    },
    "scrolled": false
   },
   "outputs": [],
   "source": [
    "%run ./initialization.ipynb"
   ]
  },
  {
   "cell_type": "markdown",
   "metadata": {},
   "source": [
    "# Load data\n",
    "\n",
    "<p style=\"border:2px solid black\"> </p>"
   ]
  },
  {
   "cell_type": "markdown",
   "metadata": {},
   "source": [
    "Let's load the clean demographical data for Copenhagen, which we have obtained in the notebook [Loading and Cleaning of Data](https://social-data-analysis-and-visualization-final-project.s3.eu-central-1.amazonaws.com/data_loading_and_cleaning.html)."
   ]
  },
  {
   "cell_type": "code",
   "execution_count": null,
   "metadata": {
    "ExecuteTime": {
     "end_time": "2021-05-14T22:36:27.989535Z",
     "start_time": "2021-05-14T22:36:27.242200Z"
    },
    "pycharm": {
     "name": "#%%\n"
    },
    "scrolled": false
   },
   "outputs": [],
   "source": [
    "# Load the clean data.\n",
    "cph_data = CphData()\n",
    "\n",
    "# Display all dataframes:\n",
    "cph_data.display_dataframes()"
   ]
  },
  {
   "cell_type": "markdown",
   "metadata": {},
   "source": [
    "# Identify common data categories in dataframes containing district information\n",
    "\n",
    "<p style=\"border:2px solid black\"> </p>"
   ]
  },
  {
   "cell_type": "markdown",
   "metadata": {},
   "source": [
    "All of the datasets we have at our disposal contain information divided by district except a single one: the one that describes the total population of Copenhagen by the country of origin. Therefore, will treat this dataset separately, and in this notebook concentrate solely on the datasets in which the data is divided by district.\n",
    "\n",
    "Let's start by investigating how much information the datasets that **do** contain district information have in common:"
   ]
  },
  {
   "cell_type": "code",
   "execution_count": null,
   "metadata": {
    "ExecuteTime": {
     "end_time": "2021-05-14T22:36:28.092769Z",
     "start_time": "2021-05-14T22:36:27.991528Z"
    },
    "pycharm": {
     "name": "#%%\n"
    },
    "scrolled": false
   },
   "outputs": [],
   "source": [
    "# Get the names of all columns in all tables.\n",
    "all_columns = cph_data.get_all_column_names()\n",
    "\n",
    "# Get all dataframes containing district information.\n",
    "all_dataframes_with_district = cph_data.get_dataframes_with_district()\n",
    "\n",
    "# Get a dict containing the names of dataframes that\n",
    "# contain a given column.\n",
    "datasets_with_column = {column: [df.attrs[\"name\"] for df in all_dataframes_with_district\n",
    "                                 if column in df.columns]\n",
    "                        for column in all_columns}\n",
    "\n",
    "# Get the column names sorted by the number of datasets in which they appear.\n",
    "columns_by_popularity = sorted(datasets_with_column,\n",
    "                               key=lambda column: len(\n",
    "                                   datasets_with_column[column]),\n",
    "                               reverse=True)\n",
    "\n",
    "# Create dictionary sorted by the the popularity of the column\n",
    "# (from most to least popular).\n",
    "datasets_with_column_sorted = {column: datasets_with_column[column]\n",
    "                               for column in columns_by_popularity}\n",
    "\n",
    "# Print out the most popular columns.\n",
    "printmd('We can see that in the datasets that **do** contain district information:')\n",
    "for column_name, df_names in datasets_with_column_sorted.items():\n",
    "    print()\n",
    "    printmd(f'Column **_{column_name}_** occurs in {len(df_names)} '\n",
    "            f'out of {len(all_dataframes_with_district)} dataframes:')\n",
    "    print(df_names)"
   ]
  },
  {
   "cell_type": "markdown",
   "metadata": {},
   "source": [
    "Therefore, we can use **Year**, **District**, and **District Type** as basis of our super-dataset, where we will join the data from various datasets."
   ]
  },
  {
   "cell_type": "markdown",
   "metadata": {},
   "source": [
    "# Streamline district information\n",
    "\n",
    "<p style=\"border:2px solid black\"> </p>"
   ]
  },
  {
   "cell_type": "markdown",
   "metadata": {},
   "source": [
    "For simplicity, it might be beneficial to limit ourselves to only one district type. Let's start by investigating which ones we have available:"
   ]
  },
  {
   "cell_type": "code",
   "execution_count": null,
   "metadata": {
    "ExecuteTime": {
     "end_time": "2021-05-14T22:36:28.183040Z",
     "start_time": "2021-05-14T22:36:28.095761Z"
    },
    "pycharm": {
     "name": "#%%\n"
    },
    "scrolled": false
   },
   "outputs": [],
   "source": [
    "# Get the names of all columns in all tables.\n",
    "all_columns = cph_data.get_all_column_names()\n",
    "\n",
    "# Get all dataframes containing district information.\n",
    "all_dataframes_with_district = cph_data.get_dataframes_with_district()\n",
    "\n",
    "# Get all district types.\n",
    "all_district_types = list()\n",
    "for df in cph_data.get_dataframes_with_district():\n",
    "    all_district_types += list(df['District type'].unique())\n",
    "\n",
    "all_district_types = unique(all_district_types)\n",
    "\n",
    "# Display the district types.\n",
    "printmd('The following district types at our disposition:')\n",
    "for district in all_district_types:\n",
    "    district_string = '***, ***'.join(all_district_types)\n",
    "\n",
    "printmd('***' + '***, ***'.join(all_district_types) + '***')"
   ]
  },
  {
   "cell_type": "markdown",
   "metadata": {},
   "source": [
    "***Entire Copenhagen*** is not a district, but a summation of all districts in Copenhagen. ***District*** and ***Polling area*** are real districts - ***District*** is of lower resolution and ***Polling area*** is of higher resolution. Let's get an overview of the ***Districts*** and ***Polling areas***:"
   ]
  },
  {
   "cell_type": "code",
   "execution_count": null,
   "metadata": {
    "ExecuteTime": {
     "end_time": "2021-05-14T22:36:28.368070Z",
     "start_time": "2021-05-14T22:36:28.186032Z"
    },
    "pycharm": {
     "name": "#%%\n"
    },
    "scrolled": false
   },
   "outputs": [],
   "source": [
    "# Get all dataframes containing district information.\n",
    "all_dataframes_with_district = cph_data.get_dataframes_with_district()\n",
    "\n",
    "# Get all Polling Areas.\n",
    "all_polling_areas = list()\n",
    "for df in cph_data.get_dataframes_with_district():\n",
    "    all_polling_areas += list(df.loc[df['District type']\n",
    "                              == 'Polling area', 'District'].unique())\n",
    "all_polling_areas = unique(all_polling_areas)\n",
    "\n",
    "# Get all Districts.\n",
    "all_districts = list()\n",
    "for df in cph_data.get_dataframes_with_district():\n",
    "    all_districts += list(df.loc[df['District type']\n",
    "                          == 'District', 'District'].unique())\n",
    "all_districts = unique(all_districts)\n",
    "\n",
    "# Show the Polling Areas and Districts:\n",
    "display(pd.DataFrame(sorted(all_polling_areas), columns=['Polling areas']))\n",
    "display(pd.DataFrame(sorted(all_districts), columns=['Districts']))"
   ]
  },
  {
   "cell_type": "markdown",
   "metadata": {},
   "source": [
    "So, we have 53 ***Polling Areas*** and 1 ***Districts*** (not counting the district: ***Unlocated***.). Now, let's check if all the dataset have information about all district types:"
   ]
  },
  {
   "cell_type": "code",
   "execution_count": null,
   "metadata": {
    "ExecuteTime": {
     "end_time": "2021-05-14T22:36:28.412936Z",
     "start_time": "2021-05-14T22:36:28.372047Z"
    },
    "pycharm": {
     "name": "#%%\n"
    },
    "scrolled": false
   },
   "outputs": [],
   "source": [
    "datasets_with_district_type = {district_type: [df.attrs[\"name\"]\n",
    "                                               for df in all_dataframes_with_district\n",
    "                                               if district_type in df['District type'].values]\n",
    "                               for district_type in all_district_types}\n",
    "\n",
    "# Get the district names sorted by the number of datasets in which they appear.\n",
    "district_types_by_popularity = sorted(datasets_with_district_type,\n",
    "                                      key=lambda column: len(\n",
    "                                          datasets_with_district_type[column]),\n",
    "                                      reverse=True)\n",
    "\n",
    "# Create dictionary sorted by the the popularity of the district type.\n",
    "# (from most to least popular).\n",
    "datasets_with_district_type_sorted = {column: datasets_with_district_type[column]\n",
    "                                      for column in district_types_by_popularity}\n",
    "\n",
    "# Print out the most popular columns.\n",
    "for column_name, df_names in datasets_with_district_type_sorted.items():\n",
    "    print()\n",
    "    printmd(f'Dataset type **_{column_name}_** occurs in {len(df_names)} '\n",
    "            f'out of {len(all_dataframes_with_district)} dataframes:')\n",
    "    print(df_names)"
   ]
  },
  {
   "cell_type": "markdown",
   "metadata": {},
   "source": [
    "So, if we use ***District*** as an area, we will be able to divide Copenhagen in 10 districts and use all of our datasets containing district informattion. If we use ***Polling area***, we will be able to divide Copenhagen in 53 districts and use all of our datasets except the one containing information about *Life span*.\n",
    "\n",
    "It is a dilemma, because I would like to use the high resolution, but I am also very interested in taking a look on how life span correlates with all the other factors. Therefore, at least as a starting point, I will go with the type: ***District***."
   ]
  },
  {
   "cell_type": "markdown",
   "metadata": {},
   "source": [
    "# Initialize the superset object\n",
    "\n",
    "<p style=\"border:2px solid black\"> </p>"
   ]
  },
  {
   "cell_type": "markdown",
   "metadata": {},
   "source": [
    "Let's gather all the dataframes that we will use to create our superset in one class. As mentioned, we will only use data for the districts of type: ***District***. As this will make the column: ***District type*** superficial, we will remove it from further investigations:"
   ]
  },
  {
   "cell_type": "code",
   "execution_count": null,
   "metadata": {
    "ExecuteTime": {
     "end_time": "2021-05-14T22:36:28.816855Z",
     "start_time": "2021-05-14T22:36:28.415935Z"
    },
    "pycharm": {
     "name": "#%%\n"
    },
    "scrolled": false
   },
   "outputs": [],
   "source": [
    "# Initialize the dataset that will contain the cross of all the\n",
    "# dataset available in this project.\n",
    "cph_data_superset = CphData()\n",
    "\n",
    "# Filter the districts to include only District type: District\n",
    "# and drop the column \"District type\"\n",
    "for attribute_name, df in get_obj_attributes(cph_data_superset).items():\n",
    "    # Delete all the datasets from the object that do not contain\n",
    "    # the district data\n",
    "    if 'District' not in df.columns:\n",
    "        delattr(cph_data_superset, attribute_name)\n",
    "\n",
    "    # Limit the data to District Type: District and\n",
    "    # remove the column: District type\n",
    "    else:\n",
    "        setattr(\n",
    "            cph_data_superset,\n",
    "            attribute_name,\n",
    "            (df\n",
    "             .loc[df['District type'] == 'District']\n",
    "             .drop(['District type'], axis=1))\n",
    "        )\n",
    "\n",
    "# Display all dataframes:\n",
    "cph_data_superset.display_dataframes()"
   ]
  },
  {
   "cell_type": "markdown",
   "metadata": {},
   "source": [
    "# Remove the column `Quarter`\n",
    "\n",
    "<p style=\"border:2px solid black\"> </p>"
   ]
  },
  {
   "cell_type": "markdown",
   "metadata": {},
   "source": [
    "As our dataset have already been adjusted so that their temporal resolution is ***one year***, the column `Quarter` has become superficial. Therefore, let's delete it from all the dataframes that contain it:"
   ]
  },
  {
   "cell_type": "code",
   "execution_count": null,
   "metadata": {
    "ExecuteTime": {
     "end_time": "2021-05-14T22:36:28.837800Z",
     "start_time": "2021-05-14T22:36:28.818850Z"
    },
    "pycharm": {
     "name": "#%%\n"
    },
    "scrolled": false
   },
   "outputs": [],
   "source": [
    "for attribute_name, df in get_obj_attributes(cph_data_superset).items():\n",
    "    # Delete all the datasets from the object that do not contain\n",
    "    # the district data.\n",
    "    if 'Quarter' in df.columns:\n",
    "        df.drop(['Quarter'], axis=1, inplace=True)\n",
    "\n",
    "# Display one dataframe to veryfy that the column Quarter is gone:\n",
    "display(cph_data_superset.family_type_and_children.head(3))"
   ]
  },
  {
   "cell_type": "markdown",
   "metadata": {},
   "source": [
    "# Prepare dataset for inclusion in the superset: ***Citizenship***\n",
    "\n",
    "<p style=\"border:2px solid black\"> </p>"
   ]
  },
  {
   "cell_type": "markdown",
   "metadata": {},
   "source": [
    "## Display the dataset"
   ]
  },
  {
   "cell_type": "markdown",
   "metadata": {},
   "source": [
    "Let's take a closer look on the data:"
   ]
  },
  {
   "cell_type": "code",
   "execution_count": null,
   "metadata": {
    "ExecuteTime": {
     "end_time": "2021-05-14T22:36:28.889671Z",
     "start_time": "2021-05-14T22:36:28.839794Z"
    },
    "pycharm": {
     "name": "#%%\n"
    },
    "scrolled": false
   },
   "outputs": [],
   "source": [
    "display(cph_data_superset.citizenship)"
   ]
  },
  {
   "cell_type": "markdown",
   "metadata": {},
   "source": [
    "## Check the number of people before transformations"
   ]
  },
  {
   "cell_type": "markdown",
   "metadata": {},
   "source": [
    "To make sure that our transformations are correct, we will compare the summed number of people in our dataset in 2019 before and after the transformations."
   ]
  },
  {
   "cell_type": "code",
   "execution_count": null,
   "metadata": {
    "ExecuteTime": {
     "end_time": "2021-05-14T22:36:28.920586Z",
     "start_time": "2021-05-14T22:36:28.891655Z"
    },
    "pycharm": {
     "name": "#%%\n"
    },
    "scrolled": true
   },
   "outputs": [],
   "source": [
    "# Sum all the numbers of people in 2019.\n",
    "sum_2019 = (\n",
    "    cph_data_superset.citizenship\n",
    "    .loc[cph_data_superset.citizenship['Year'] == 2019,\n",
    "         'Number of people']\n",
    "    .to_numpy()\n",
    "    .sum()\n",
    ")\n",
    "\n",
    "# Display the result.\n",
    "printmd(f'The sum of people in Copenhagen in 2019 '\n",
    "        f'has been calculated to ***{sum_2019:,.0f}.***')"
   ]
  },
  {
   "cell_type": "markdown",
   "metadata": {},
   "source": [
    "## Create new columns containing the number of people for each citizenship, age, and sex group"
   ]
  },
  {
   "cell_type": "markdown",
   "metadata": {},
   "source": [
    "Let's create a column for each combination of the non-continuous parameters so that each row of the dataset will represent the data for a unique combination of a year and a district:"
   ]
  },
  {
   "cell_type": "code",
   "execution_count": null,
   "metadata": {
    "ExecuteTime": {
     "end_time": "2021-05-14T22:36:29.057212Z",
     "start_time": "2021-05-14T22:36:28.922573Z"
    },
    "pycharm": {
     "name": "#%%\n"
    },
    "scrolled": false
   },
   "outputs": [],
   "source": [
    "# Create new columns containing the number of people\n",
    "# for each citizenship group, age group, and sex.\n",
    "df_temp_citizenship_1 = (\n",
    "    df_create_column_for_each_unique_value(\n",
    "        cph_data_superset.citizenship,\n",
    "        category_columns=['Citizenship', 'Age', 'Sex'],\n",
    "        value_columns='Number of people'\n",
    "    )\n",
    ")\n",
    "\n",
    "# Show the result.\n",
    "display(df_temp_citizenship_1)"
   ]
  },
  {
   "cell_type": "markdown",
   "metadata": {},
   "source": [
    "## Express the number of people as fractions of the district-total:"
   ]
  },
  {
   "cell_type": "markdown",
   "metadata": {},
   "source": [
    "To make it easier to compare the districts, we will express the number of people in each category as a fraction of the total number of people in a given district and year:"
   ]
  },
  {
   "cell_type": "code",
   "execution_count": null,
   "metadata": {
    "ExecuteTime": {
     "end_time": "2021-05-14T22:36:29.206337Z",
     "start_time": "2021-05-14T22:36:29.059207Z"
    },
    "pycharm": {
     "name": "#%%\n"
    },
    "scrolled": false
   },
   "outputs": [],
   "source": [
    "# Initialize the processing stage.\n",
    "df_temp_citizenship_2 = df_temp_citizenship_1.copy()\n",
    "\n",
    "# Calculate the total number of people\n",
    "df_temp_citizenship_2['Total number of people'] = (\n",
    "    df_temp_citizenship_2\n",
    "    .loc[:, ['Number of people']]\n",
    "    .sum(axis=1)\n",
    ")\n",
    "\n",
    "# Calculate percentages\n",
    "df_temp_citizenship_2['Number of people'] = (\n",
    "    df_temp_citizenship_2['Number of people']\n",
    "    .div(df_temp_citizenship_2['Total number of people'], axis='index')\n",
    "    .mul(100, axis='index')\n",
    ")\n",
    "\n",
    "# Change the name from \"number of people\" to \"\"% of people\"\n",
    "df_temp_citizenship_2.columns = (\n",
    "    df_temp_citizenship_2.columns.set_levels(\n",
    "        (\n",
    "            df_temp_citizenship_2\n",
    "            .columns\n",
    "            .levels[0]\n",
    "            .str\n",
    "            .replace('Number of people', r'% of people')\n",
    "            .str\n",
    "            .replace('Total number of people', r'Number of people')\n",
    "        ),\n",
    "        level=0\n",
    "    )\n",
    ")\n",
    "\n",
    "# Put assign the dataframe to the object containing\n",
    "# the data for the superset.\n",
    "cph_data_superset.citizenship = df_temp_citizenship_2\n",
    "\n",
    "# Show the resulting dataframe.\n",
    "display(cph_data_superset.citizenship)"
   ]
  },
  {
   "cell_type": "markdown",
   "metadata": {},
   "source": [
    "## Check that the sum of citizens looks right"
   ]
  },
  {
   "cell_type": "markdown",
   "metadata": {},
   "source": [
    "The number of people in Copenhagen in 2019 before the transformation of the dataset has been calculated to ***629,513***. Let's see if our numbers add up:"
   ]
  },
  {
   "cell_type": "code",
   "execution_count": null,
   "metadata": {
    "ExecuteTime": {
     "end_time": "2021-05-14T22:36:29.224283Z",
     "start_time": "2021-05-14T22:36:29.208326Z"
    },
    "pycharm": {
     "name": "#%%\n"
    },
    "scrolled": true
   },
   "outputs": [],
   "source": [
    "# Sum all the numbers of people in 2019.\n",
    "sum_2019 = (\n",
    "    cph_data_superset.citizenship\n",
    "    .loc[cph_data_superset.citizenship['Year'] == 2019,\n",
    "         'Number of people']\n",
    "    .to_numpy()\n",
    "    .sum()\n",
    ")\n",
    "\n",
    "# Display the result.\n",
    "printmd(f'The sum of people in Copenhagen in 2019 '\n",
    "        f'has been calculated to ***{sum_2019:,.0f}.***')"
   ]
  },
  {
   "cell_type": "markdown",
   "metadata": {
    "ExecuteTime": {
     "end_time": "2021-05-10T15:58:54.428669Z",
     "start_time": "2021-05-10T15:58:54.416703Z"
    }
   },
   "source": [
    "Everything seems ok."
   ]
  },
  {
   "cell_type": "markdown",
   "metadata": {},
   "source": [
    "# Prepare dataset for inclusion: ***Dwellings***\n",
    "\n",
    "<p style=\"border:2px solid black\"> </p>"
   ]
  },
  {
   "cell_type": "markdown",
   "metadata": {},
   "source": [
    "## Display the dataset"
   ]
  },
  {
   "cell_type": "markdown",
   "metadata": {},
   "source": [
    "Let's take a closer look on the data:"
   ]
  },
  {
   "cell_type": "code",
   "execution_count": null,
   "metadata": {
    "ExecuteTime": {
     "end_time": "2021-05-14T22:36:29.278140Z",
     "start_time": "2021-05-14T22:36:29.225280Z"
    },
    "pycharm": {
     "name": "#%%\n"
    },
    "scrolled": false
   },
   "outputs": [],
   "source": [
    "display(cph_data_superset.dwellings)"
   ]
  },
  {
   "cell_type": "markdown",
   "metadata": {},
   "source": [
    "## Check the total dwelling area before transformations"
   ]
  },
  {
   "cell_type": "markdown",
   "metadata": {},
   "source": [
    "To make sure that our transformations are correct, we will compare the total area of dwellings in our dataset in 2019 before and after the transformations."
   ]
  },
  {
   "cell_type": "code",
   "execution_count": null,
   "metadata": {
    "ExecuteTime": {
     "end_time": "2021-05-14T22:36:29.309056Z",
     "start_time": "2021-05-14T22:36:29.280134Z"
    },
    "pycharm": {
     "name": "#%%\n"
    },
    "scrolled": true
   },
   "outputs": [],
   "source": [
    "# Sum all the numbers of people in 2019.\n",
    "sum_2019 = (\n",
    "    cph_data_superset.dwellings\n",
    "    .loc[cph_data_superset.dwellings['Year'] == 2019,\n",
    "         'Total square meters occupied dwellings']\n",
    "    .to_numpy()\n",
    "    .sum()\n",
    ")\n",
    "\n",
    "# Display the result.\n",
    "printmd(f'The total area of dwellings in Copenhagen in 2019 '\n",
    "        f'has been calculated to ***{sum_2019:,.0f}*** $m^2$.')"
   ]
  },
  {
   "cell_type": "markdown",
   "metadata": {},
   "source": [
    "## Create new columns containing the number of total of square meters for each dwelling ownership group"
   ]
  },
  {
   "cell_type": "markdown",
   "metadata": {},
   "source": [
    "Let's create a column for each combination of the non-continuous parameters so that each row of the dataset will represent the data for a unique combination of a year and a district:"
   ]
  },
  {
   "cell_type": "code",
   "execution_count": null,
   "metadata": {
    "ExecuteTime": {
     "end_time": "2021-05-14T22:36:29.370891Z",
     "start_time": "2021-05-14T22:36:29.311051Z"
    },
    "pycharm": {
     "name": "#%%\n"
    },
    "scrolled": false
   },
   "outputs": [],
   "source": [
    "# Create new columns containing the number of people for dwelling ownership' group.\n",
    "df_temp_dwellings_1 = (\n",
    "    df_create_column_for_each_unique_value(\n",
    "        cph_data_superset.dwellings,\n",
    "        category_columns='Dwelling ownership',\n",
    "        value_columns='Total square meters occupied dwellings'\n",
    "    )\n",
    ")\n",
    "\n",
    "# Show the results.\n",
    "display(df_temp_dwellings_1)"
   ]
  },
  {
   "cell_type": "markdown",
   "metadata": {},
   "source": [
    "## Check if there are any square meters in the column: `Unknown`"
   ]
  },
  {
   "cell_type": "markdown",
   "metadata": {},
   "source": [
    "As we can see in the table above, it seems that there might not be any square meters assigned to the column: `Unkown`, which would make this column superficial. Let's investigate that:"
   ]
  },
  {
   "cell_type": "code",
   "execution_count": null,
   "metadata": {
    "ExecuteTime": {
     "end_time": "2021-05-14T22:36:29.381863Z",
     "start_time": "2021-05-14T22:36:29.372886Z"
    },
    "pycharm": {
     "name": "#%%\n"
    },
    "scrolled": false
   },
   "outputs": [],
   "source": [
    "# Get the sum of m2 in the column \"Unknown\".\n",
    "m2_in_uknown = (\n",
    "    df_temp_dwellings_1\n",
    "    .loc[:, ('Total square meters occupied dwellings', 'Unknown')].sum()\n",
    ")\n",
    "\n",
    "# Show the result.\n",
    "printmd(\n",
    "    f'The sum of square meters in the column `Unknown` is: ***{m2_in_uknown}***.')"
   ]
  },
  {
   "cell_type": "markdown",
   "metadata": {},
   "source": [
    "Therefore, we will remove the column `Unknown`:"
   ]
  },
  {
   "cell_type": "code",
   "execution_count": null,
   "metadata": {
    "ExecuteTime": {
     "end_time": "2021-05-14T22:36:29.427745Z",
     "start_time": "2021-05-14T22:36:29.387847Z"
    },
    "pycharm": {
     "name": "#%%\n"
    },
    "scrolled": false
   },
   "outputs": [],
   "source": [
    "# Remove the column \"Unknown\":\n",
    "df_temp_dwellings_2 = (\n",
    "    df_temp_dwellings_1.drop(\n",
    "        ('Total square meters occupied dwellings', 'Unknown'),\n",
    "        axis=1\n",
    "    )\n",
    ")\n",
    "\n",
    "# Show the results.\n",
    "display(df_temp_dwellings_2)"
   ]
  },
  {
   "cell_type": "markdown",
   "metadata": {},
   "source": [
    "## Express the areas as fractions of the district-total"
   ]
  },
  {
   "cell_type": "markdown",
   "metadata": {},
   "source": [
    "To make it easier to compare the districts, we will express the areas in each category as a fraction of the total area of occupied dwellings in a given district and year:"
   ]
  },
  {
   "cell_type": "code",
   "execution_count": null,
   "metadata": {
    "ExecuteTime": {
     "end_time": "2021-05-14T22:36:29.523483Z",
     "start_time": "2021-05-14T22:36:29.431730Z"
    },
    "pycharm": {
     "name": "#%%\n"
    },
    "scrolled": false
   },
   "outputs": [],
   "source": [
    "# Initialize the processing stage.\n",
    "df_temp_dwellings_3 = df_temp_dwellings_2.copy()\n",
    "\n",
    "# Calculate the total number of m2\n",
    "df_temp_dwellings_3['Total m2'] = (\n",
    "    df_temp_dwellings_3\n",
    "    .loc[:, ['Total square meters occupied dwellings']]\n",
    "    .sum(axis=1)\n",
    ")\n",
    "\n",
    "# Calculate percentages.\n",
    "df_temp_dwellings_3['Total square meters occupied dwellings'] = (\n",
    "    df_temp_dwellings_3['Total square meters occupied dwellings']\n",
    "    .div(df_temp_dwellings_3['Total m2'], axis='index')\n",
    "    .mul(100, axis='index')\n",
    ")\n",
    "\n",
    "# Change the name from \"Total square meters occupied dwellings\"\n",
    "# to \"% of total dwellings area.\"\n",
    "df_temp_dwellings_3.columns = (\n",
    "    df_temp_dwellings_3.columns.set_levels(\n",
    "        (\n",
    "            df_temp_dwellings_3\n",
    "            .columns\n",
    "            .levels[0]\n",
    "            .str\n",
    "            .replace('Total square meters occupied dwellings', r'% of total dwellings area')\n",
    "            .str\n",
    "            .replace('Total m2', r'Total dwellings area')\n",
    "        ),\n",
    "        level=0\n",
    "    )\n",
    ")\n",
    "\n",
    "# Put assign the dataframe to the object containing\n",
    "# the data for the superset.\n",
    "cph_data_superset.dwellings = df_temp_dwellings_3\n",
    "\n",
    "# Show the resulting dataframe.\n",
    "display(cph_data_superset.dwellings)"
   ]
  },
  {
   "cell_type": "markdown",
   "metadata": {},
   "source": [
    "## Check that the total area looks right"
   ]
  },
  {
   "cell_type": "markdown",
   "metadata": {},
   "source": [
    "The total area of occupied dwellings in Copenhagen in 2019 before the transformation of the dataset has been calculated to ***26,073,695*** $m^2$. Let's see if our numbers add up:"
   ]
  },
  {
   "cell_type": "code",
   "execution_count": null,
   "metadata": {
    "ExecuteTime": {
     "end_time": "2021-05-14T22:36:29.538443Z",
     "start_time": "2021-05-14T22:36:29.525488Z"
    },
    "pycharm": {
     "name": "#%%\n"
    },
    "scrolled": false
   },
   "outputs": [],
   "source": [
    "# Sum all the numbers of people in 2019.\n",
    "sum_2019 = (\n",
    "    cph_data_superset.dwellings\n",
    "    .loc[cph_data_superset.dwellings['Year'] == 2019,\n",
    "         'Total dwellings area']\n",
    "    .to_numpy()\n",
    "    .sum()\n",
    ")\n",
    "\n",
    "# Display the result.\n",
    "printmd(f'The total area of dwellings in Copenhagen in 2019 '\n",
    "        f'has been calculated to ***{sum_2019:,.0f}*** $m^2$.')"
   ]
  },
  {
   "cell_type": "markdown",
   "metadata": {
    "ExecuteTime": {
     "end_time": "2021-05-10T15:58:54.428669Z",
     "start_time": "2021-05-10T15:58:54.416703Z"
    }
   },
   "source": [
    "Everything seems ok."
   ]
  },
  {
   "cell_type": "markdown",
   "metadata": {},
   "source": [
    "# Prepare dataset for inclusion: ***Family Type and Children***\n",
    "\n",
    "<p style=\"border:2px solid black\"> </p>"
   ]
  },
  {
   "cell_type": "markdown",
   "metadata": {},
   "source": [
    "## Display the dataset"
   ]
  },
  {
   "cell_type": "markdown",
   "metadata": {},
   "source": [
    "Let's take a closer look on the data:"
   ]
  },
  {
   "cell_type": "code",
   "execution_count": null,
   "metadata": {
    "ExecuteTime": {
     "end_time": "2021-05-14T22:36:29.575344Z",
     "start_time": "2021-05-14T22:36:29.540437Z"
    },
    "pycharm": {
     "name": "#%%\n"
    },
    "scrolled": false
   },
   "outputs": [],
   "source": [
    "display(cph_data_superset.family_type_and_children)"
   ]
  },
  {
   "cell_type": "markdown",
   "metadata": {},
   "source": [
    "## Check the total total number of families before transformations"
   ]
  },
  {
   "cell_type": "markdown",
   "metadata": {},
   "source": [
    "To make sure that our transformations are correct, we will compare the total number of families in our dataset in 2019 before and after the transformations."
   ]
  },
  {
   "cell_type": "code",
   "execution_count": null,
   "metadata": {
    "ExecuteTime": {
     "end_time": "2021-05-14T22:36:29.586322Z",
     "start_time": "2021-05-14T22:36:29.577367Z"
    },
    "pycharm": {
     "name": "#%%\n"
    },
    "scrolled": true
   },
   "outputs": [],
   "source": [
    "# Sum all the number of people in 2019.\n",
    "sum_2019 = (\n",
    "    cph_data_superset.family_type_and_children\n",
    "    .loc[cph_data_superset.family_type_and_children['Year'] == 2019,\n",
    "         'Number of families']\n",
    "    .to_numpy()\n",
    "    .sum()\n",
    ")\n",
    "\n",
    "# Display the result.\n",
    "printmd(f'The sum of families of Copenhagen in 2019 '\n",
    "        f'has been calculated to ***{sum_2019:,.0f}.***')"
   ]
  },
  {
   "cell_type": "markdown",
   "metadata": {},
   "source": [
    "## Create new columns containing the number of families for each family type and number of children"
   ]
  },
  {
   "cell_type": "markdown",
   "metadata": {},
   "source": [
    "Let's create a column for each combination of the non-continuous parameters so that each row of the dataset will represent the data for a unique combination of a year and a district:"
   ]
  },
  {
   "cell_type": "code",
   "execution_count": null,
   "metadata": {
    "ExecuteTime": {
     "end_time": "2021-05-14T22:36:29.647161Z",
     "start_time": "2021-05-14T22:36:29.588317Z"
    },
    "pycharm": {
     "name": "#%%\n"
    },
    "scrolled": false
   },
   "outputs": [],
   "source": [
    "# Create new columns containing the number of families\n",
    "# for each family type and number of children.\n",
    "df_temp_family_type_and_children_1 = (\n",
    "    df_create_column_for_each_unique_value(\n",
    "        cph_data_superset.family_type_and_children,\n",
    "        category_columns=['Family type', 'Number of children'],\n",
    "        value_columns='Number of families'\n",
    "    )\n",
    ")\n",
    "\n",
    "# Show the result\n",
    "display(df_temp_family_type_and_children_1)"
   ]
  },
  {
   "cell_type": "markdown",
   "metadata": {},
   "source": [
    "## Express the number of families as fractions of the district-total"
   ]
  },
  {
   "cell_type": "markdown",
   "metadata": {},
   "source": [
    "To make it easier to compare the districts, we will express the number of families in each category as a fraction of the total number of families in a given district and year:"
   ]
  },
  {
   "cell_type": "code",
   "execution_count": null,
   "metadata": {
    "ExecuteTime": {
     "end_time": "2021-05-14T22:36:29.710501Z",
     "start_time": "2021-05-14T22:36:29.649153Z"
    },
    "pycharm": {
     "name": "#%%\n"
    },
    "scrolled": true
   },
   "outputs": [],
   "source": [
    "# Initialize the processing stage.\n",
    "df_temp_family_type_and_children_2 = df_temp_family_type_and_children_1.copy()\n",
    "\n",
    "# Calculate the total number of people.\n",
    "df_temp_family_type_and_children_2['Total number of families'] = (\n",
    "    df_temp_family_type_and_children_2\n",
    "    .loc[:, ['Number of families']]\n",
    "    .sum(axis=1)\n",
    ")\n",
    "\n",
    "# Calculate percentages.\n",
    "df_temp_family_type_and_children_2['Number of families'] = (\n",
    "    df_temp_family_type_and_children_2['Number of families']\n",
    "    .div(df_temp_family_type_and_children_2['Total number of families'], axis='index')\n",
    "    .mul(100, axis='index')\n",
    ")\n",
    "\n",
    "# Change the name from \"Number of families'\"\n",
    "# to \"\"% of families\"\n",
    "df_temp_family_type_and_children_2.columns = (\n",
    "    df_temp_family_type_and_children_2.columns.set_levels(\n",
    "        (\n",
    "            df_temp_family_type_and_children_2\n",
    "            .columns\n",
    "            .levels[0]\n",
    "            .str\n",
    "            .replace('Number of families', r'% of families')\n",
    "            .str\n",
    "            .replace('Total number of families', r'Number of families')\n",
    "        ),\n",
    "        level=0\n",
    "    )\n",
    ")\n",
    "\n",
    "# Put assign the dataframe to the object containing\n",
    "# the data for the superset.\n",
    "cph_data_superset.family_type_and_children = df_temp_family_type_and_children_2\n",
    "\n",
    "# Show the resulting dataframe.\n",
    "display(cph_data_superset.family_type_and_children)"
   ]
  },
  {
   "cell_type": "markdown",
   "metadata": {},
   "source": [
    "## Check that the number of families looks right"
   ]
  },
  {
   "cell_type": "markdown",
   "metadata": {},
   "source": [
    "The total number of families in Copenhagen in 2019 before the transformation of the dataset has been calculated to ***384,090***. Let's see if our numbers add up:"
   ]
  },
  {
   "cell_type": "code",
   "execution_count": null,
   "metadata": {
    "ExecuteTime": {
     "end_time": "2021-05-14T22:36:29.733443Z",
     "start_time": "2021-05-14T22:36:29.712496Z"
    },
    "pycharm": {
     "name": "#%%\n"
    },
    "scrolled": true
   },
   "outputs": [],
   "source": [
    "# Sum all the number of people in 2019.\n",
    "sum_2019 = (\n",
    "    cph_data_superset.family_type_and_children\n",
    "    .loc[cph_data_superset.family_type_and_children['Year'] == 2019,\n",
    "         'Number of families']\n",
    "    .to_numpy()\n",
    "    .sum()\n",
    ")\n",
    "\n",
    "# Display the result.\n",
    "printmd(f'The sum of families of Copenhagen in 2019 '\n",
    "        f'has been calculated to ***{sum_2019:,.0f}.***')"
   ]
  },
  {
   "cell_type": "markdown",
   "metadata": {
    "ExecuteTime": {
     "end_time": "2021-05-10T15:58:54.428669Z",
     "start_time": "2021-05-10T15:58:54.416703Z"
    }
   },
   "source": [
    "Everything seems ok."
   ]
  },
  {
   "cell_type": "markdown",
   "metadata": {},
   "source": [
    "# Prepare dataset for inclusion: ***Income***\n",
    "\n",
    "<p style=\"border:2px solid black\"> </p>"
   ]
  },
  {
   "cell_type": "markdown",
   "metadata": {},
   "source": [
    "## Display the dataset"
   ]
  },
  {
   "cell_type": "markdown",
   "metadata": {},
   "source": [
    "Let's take a closer look on the data:"
   ]
  },
  {
   "cell_type": "code",
   "execution_count": null,
   "metadata": {
    "ExecuteTime": {
     "end_time": "2021-05-14T22:36:29.753388Z",
     "start_time": "2021-05-14T22:36:29.735445Z"
    },
    "pycharm": {
     "name": "#%%\n"
    },
    "scrolled": false
   },
   "outputs": [],
   "source": [
    "display(cph_data_superset.income)"
   ]
  },
  {
   "cell_type": "markdown",
   "metadata": {},
   "source": [
    "## Check the number of people"
   ]
  },
  {
   "cell_type": "markdown",
   "metadata": {},
   "source": [
    "To make sure that our comparisons hold, let's compare the number of people in the ***Income*** dataset with that of the ***Citizenship*** dataset."
   ]
  },
  {
   "cell_type": "code",
   "execution_count": null,
   "metadata": {
    "ExecuteTime": {
     "end_time": "2021-05-14T22:36:29.764358Z",
     "start_time": "2021-05-14T22:36:29.755381Z"
    },
    "pycharm": {
     "name": "#%%\n"
    },
    "scrolled": false
   },
   "outputs": [],
   "source": [
    "# Sum all the number of people in 2019.\n",
    "sum_2019 = (\n",
    "    cph_data_superset.income\n",
    "    .loc[cph_data_superset.income['Year'] == 2019,\n",
    "         'Number of people']\n",
    "    .to_numpy()\n",
    "    .sum()\n",
    ")\n",
    "\n",
    "# Display the result.\n",
    "printmd(f'The sum of people in Copenhagen in 2019 '\n",
    "        f'has been calculated to ***{sum_2019:,.0f}.***')"
   ]
  },
  {
   "cell_type": "markdown",
   "metadata": {},
   "source": [
    "This number is significantly lower than the ***629,513*** we get from the ***Citizenship*** dataset. Let's investigate why:"
   ]
  },
  {
   "cell_type": "code",
   "execution_count": null,
   "metadata": {
    "ExecuteTime": {
     "end_time": "2021-05-14T22:36:29.812230Z",
     "start_time": "2021-05-14T22:36:29.766354Z"
    },
    "pycharm": {
     "name": "#%%\n"
    },
    "scrolled": false
   },
   "outputs": [],
   "source": [
    "# Define the relevant columns.\n",
    "columns = ['Year', 'District', 'Number of people']\n",
    "\n",
    "# Pre process the dataframes.\n",
    "df_n_people_citizenship = cph_data_superset.citizenship[columns]\n",
    "df_n_people_citizenship.columns = df_n_people_citizenship.columns.droplevel([1, 2, 3])\n",
    "\n",
    "# Create a dataframe showing the number of people by year and district\n",
    "# for the Citizenship and Income dataset.\n",
    "df_n_people = (\n",
    "    df_n_people_citizenship\n",
    "    .merge(cph_data_superset.income[columns],\n",
    "           on=['Year', 'District'],\n",
    "           suffixes=[', ' + cph_data_superset.citizenship.attrs['name'],\n",
    "                     ', ' + cph_data_superset.income.attrs['name']],\n",
    "           how='inner')\n",
    ")\n",
    "\n",
    "# Add a column showing the difference in the number of people.\n",
    "df_n_people['Number of people, Citizenship - Income'] = (\n",
    "    df_n_people['Number of people, Citizenship']\n",
    "    .sub(df_n_people['Number of people, Income'])\n",
    ")\n",
    "\n",
    "# Display the results.\n",
    "display(df_n_people)\n",
    "printmd('Statistics about the difference:')\n",
    "display(df_n_people['Number of people, Citizenship - Income']\n",
    "        .describe()\n",
    "        .to_frame())"
   ]
  },
  {
   "cell_type": "markdown",
   "metadata": {},
   "source": [
    "We can see that there are around 8,500, or around 20% less citizens in each district in the ***Income*** dataset than in the ***Citizenship*** dataset. I believe the difference caused by exclusion of children from the ***Income*** data."
   ]
  },
  {
   "cell_type": "markdown",
   "metadata": {},
   "source": [
    "## Remove columns containing total income and number of people per district."
   ]
  },
  {
   "cell_type": "markdown",
   "metadata": {},
   "source": [
    "Because we already know the total number of people in Copenhagen from the ***Citizenship*** dataset, I choose to only keep the information about *average income* for every year and district:"
   ]
  },
  {
   "cell_type": "code",
   "execution_count": null,
   "metadata": {
    "ExecuteTime": {
     "end_time": "2021-05-14T22:36:29.830181Z",
     "start_time": "2021-05-14T22:36:29.813227Z"
    },
    "pycharm": {
     "name": "#%%\n"
    },
    "scrolled": false
   },
   "outputs": [],
   "source": [
    "# Remove columns containing total income and number of people per district.\n",
    "df_temp_income_1 = (\n",
    "    cph_data_superset.income\n",
    "    .drop(['Number of people', 'Total income in district (kr.)'],\n",
    "          axis=1)\n",
    ")\n",
    "\n",
    "# Show the result.\n",
    "display(df_temp_income_1)"
   ]
  },
  {
   "cell_type": "markdown",
   "metadata": {},
   "source": [
    "## Check the total income before transformations"
   ]
  },
  {
   "cell_type": "markdown",
   "metadata": {},
   "source": [
    "To make sure that our transformations are correct, we will compare the total income in our dataset in 2019 before and after the transformations."
   ]
  },
  {
   "cell_type": "code",
   "execution_count": null,
   "metadata": {
    "ExecuteTime": {
     "end_time": "2021-05-14T22:36:29.841153Z",
     "start_time": "2021-05-14T22:36:29.832176Z"
    },
    "pycharm": {
     "name": "#%%\n"
    },
    "scrolled": true
   },
   "outputs": [],
   "source": [
    "# Sum all the numbers of people in 2019.\n",
    "sum_2019 = (\n",
    "    df_temp_income_1\n",
    "    .loc[df_temp_income_1['Year'] == 2019,\n",
    "         'Average income (kr.)']\n",
    "    .to_numpy()\n",
    "    .sum()\n",
    ")\n",
    "\n",
    "# Display the result.\n",
    "printmd(f'The total average income in Copenhagen in 2019 '\n",
    "        f'has been calculated to ***{sum_2019:,.0f}*** kr.')"
   ]
  },
  {
   "cell_type": "markdown",
   "metadata": {},
   "source": [
    "## Create new columns containing the income data for each sex"
   ]
  },
  {
   "cell_type": "markdown",
   "metadata": {},
   "source": [
    "Let's create a column for each combination of the non-continuous parameters so that each row of the dataset will represent the data for a unique combination of a year and a district:"
   ]
  },
  {
   "cell_type": "code",
   "execution_count": null,
   "metadata": {
    "ExecuteTime": {
     "end_time": "2021-05-14T22:36:29.879055Z",
     "start_time": "2021-05-14T22:36:29.843147Z"
    },
    "pycharm": {
     "name": "#%%\n"
    },
    "scrolled": false
   },
   "outputs": [],
   "source": [
    "# Create new columns containing income data for each sex.\n",
    "cph_data_superset.income = (\n",
    "    df_create_column_for_each_unique_value(\n",
    "        df_temp_income_1,\n",
    "        category_columns=['Sex'],\n",
    "        value_columns=['Average income (kr.)']                       \n",
    "    )\n",
    ")\n",
    "\n",
    "# Show the result.\n",
    "display(cph_data_superset.income)"
   ]
  },
  {
   "cell_type": "markdown",
   "metadata": {},
   "source": [
    "## Check that the total average income looks right"
   ]
  },
  {
   "cell_type": "markdown",
   "metadata": {},
   "source": [
    "The total average income in Copenhagen in 2019 before the transformation of the dataset has been calculated to ***7,197,974*** kr. Let's see if our numbers add up:"
   ]
  },
  {
   "cell_type": "code",
   "execution_count": null,
   "metadata": {
    "ExecuteTime": {
     "end_time": "2021-05-14T22:36:29.892018Z",
     "start_time": "2021-05-14T22:36:29.881047Z"
    },
    "pycharm": {
     "name": "#%%\n"
    },
    "scrolled": true
   },
   "outputs": [],
   "source": [
    "# Sum all the numbers of people in 2019.\n",
    "sum_2019 = (\n",
    "    df_temp_income_1\n",
    "    .loc[df_temp_income_1['Year'] == 2019,\n",
    "         'Average income (kr.)']\n",
    "    .to_numpy()\n",
    "    .sum()\n",
    ")\n",
    "\n",
    "# Display the result.\n",
    "printmd(f'The total average income in Copenhagen in 2019 '\n",
    "        f'has been calculated to ***{sum_2019:,.0f}*** kr.')"
   ]
  },
  {
   "cell_type": "markdown",
   "metadata": {
    "ExecuteTime": {
     "end_time": "2021-05-10T15:58:54.428669Z",
     "start_time": "2021-05-10T15:58:54.416703Z"
    }
   },
   "source": [
    "Everything seems ok."
   ]
  },
  {
   "cell_type": "markdown",
   "metadata": {},
   "source": [
    "# Prepare dataset for inclusion: ***Lifespan***\n",
    "\n",
    "<p style=\"border:2px solid black\"> </p>"
   ]
  },
  {
   "cell_type": "markdown",
   "metadata": {},
   "source": [
    "## Display the dataset"
   ]
  },
  {
   "cell_type": "markdown",
   "metadata": {},
   "source": [
    "Let's take a closer look on the data:"
   ]
  },
  {
   "cell_type": "code",
   "execution_count": null,
   "metadata": {
    "ExecuteTime": {
     "end_time": "2021-05-14T22:36:29.910969Z",
     "start_time": "2021-05-14T22:36:29.894011Z"
    },
    "pycharm": {
     "name": "#%%\n"
    },
    "scrolled": false
   },
   "outputs": [],
   "source": [
    "display(cph_data_superset.life_span)"
   ]
  },
  {
   "cell_type": "markdown",
   "metadata": {},
   "source": [
    "This dataset has just the format we need, so we will leave it as it is."
   ]
  },
  {
   "cell_type": "markdown",
   "metadata": {},
   "source": [
    "# Prepare dataset for inclusion in the superset: ***Marital Status***\n",
    "\n",
    "<p style=\"border:2px solid black\"> </p>"
   ]
  },
  {
   "cell_type": "markdown",
   "metadata": {},
   "source": [
    "## Display the dataset"
   ]
  },
  {
   "cell_type": "markdown",
   "metadata": {},
   "source": [
    "Let's take a closer look on the data:"
   ]
  },
  {
   "cell_type": "code",
   "execution_count": null,
   "metadata": {
    "ExecuteTime": {
     "end_time": "2021-05-14T22:36:29.932908Z",
     "start_time": "2021-05-14T22:36:29.912961Z"
    },
    "pycharm": {
     "name": "#%%\n"
    },
    "scrolled": false
   },
   "outputs": [],
   "source": [
    "display(cph_data_superset.marital_status)"
   ]
  },
  {
   "cell_type": "markdown",
   "metadata": {},
   "source": [
    "## Check the number of people before transformations"
   ]
  },
  {
   "cell_type": "markdown",
   "metadata": {},
   "source": [
    "To make sure that our transformations are correct, we will compare the summed number of people in our dataset in 2019 before and after the transformations."
   ]
  },
  {
   "cell_type": "code",
   "execution_count": null,
   "metadata": {
    "ExecuteTime": {
     "end_time": "2021-05-14T22:36:29.943878Z",
     "start_time": "2021-05-14T22:36:29.934903Z"
    },
    "pycharm": {
     "name": "#%%\n"
    },
    "scrolled": true
   },
   "outputs": [],
   "source": [
    "# Sum all the numbers of people in 2019.\n",
    "sum_2019 = (\n",
    "    cph_data_superset.marital_status\n",
    "    .loc[cph_data_superset.marital_status['Year'] == 2019,\n",
    "         'Number of people']\n",
    "    .to_numpy()\n",
    "    .sum()\n",
    ")\n",
    "\n",
    "# Display the result.\n",
    "printmd(f'The sum of people in Copenhagen in 2019 '\n",
    "        f'has been calculated to ***{sum_2019:,.0f}.***')"
   ]
  },
  {
   "cell_type": "markdown",
   "metadata": {},
   "source": [
    "This number is the same as in the ***Citizenship*** dataset. That is good news, as we appreciate consistency."
   ]
  },
  {
   "cell_type": "markdown",
   "metadata": {},
   "source": [
    "## Create new columns containing the number of people for each marital status, age group, and sex"
   ]
  },
  {
   "cell_type": "markdown",
   "metadata": {},
   "source": [
    "Let's create a column for each combination of the non-continuous parameters so that each row of the dataset will represent the data for a unique combination of a year and a district:"
   ]
  },
  {
   "cell_type": "code",
   "execution_count": null,
   "metadata": {
    "ExecuteTime": {
     "end_time": "2021-05-14T22:36:30.168279Z",
     "start_time": "2021-05-14T22:36:29.945873Z"
    },
    "pycharm": {
     "name": "#%%\n"
    },
    "scrolled": false
   },
   "outputs": [],
   "source": [
    "# Create new columns containing the number of people for each citizenship group:\n",
    "df_temp_marital_status_2 = (\n",
    "    df_create_column_for_each_unique_value(\n",
    "        cph_data_superset.marital_status,\n",
    "        category_columns=['Marital status', 'Age', 'Sex'],\n",
    "        value_columns='Number of people'\n",
    "    )\n",
    ")\n",
    "\n",
    "# Show the results.\n",
    "display(df_temp_marital_status_2)"
   ]
  },
  {
   "cell_type": "markdown",
   "metadata": {},
   "source": [
    "## Express the number of people as fractions of the district-total"
   ]
  },
  {
   "cell_type": "markdown",
   "metadata": {},
   "source": [
    "To make it easier to compare the districts, we will express the number of people in each category as a fraction of the total number of people in a given district and year:"
   ]
  },
  {
   "cell_type": "code",
   "execution_count": null,
   "metadata": {
    "ExecuteTime": {
     "end_time": "2021-05-14T22:36:30.279981Z",
     "start_time": "2021-05-14T22:36:30.170273Z"
    },
    "pycharm": {
     "name": "#%%\n"
    },
    "scrolled": false
   },
   "outputs": [],
   "source": [
    "# Initialize the processing stage.\n",
    "df_temp_marital_status_3 = df_temp_marital_status_2.copy()\n",
    "\n",
    "# Calculate the total number of people\n",
    "df_temp_marital_status_3['Total number of people'] = (\n",
    "    df_temp_marital_status_3\n",
    "    .loc[:, ['Number of people']]\n",
    "    .sum(axis=1)\n",
    ")\n",
    "\n",
    "# Calculate percentages.\n",
    "df_temp_marital_status_3['Number of people'] = (\n",
    "    df_temp_marital_status_3['Number of people']\n",
    "    .div(df_temp_marital_status_3['Total number of people'], axis='index')\n",
    "    .mul(100, axis='index')\n",
    ")\n",
    "\n",
    "# Change the name from \"number of people\" to \"\"% of people\"\n",
    "df_temp_marital_status_3.columns = (\n",
    "    df_temp_marital_status_3.columns.set_levels(\n",
    "        (\n",
    "            df_temp_marital_status_3\n",
    "            .columns\n",
    "            .levels[0]\n",
    "            .str\n",
    "            .replace('Number of people', r'% of people')\n",
    "            .str\n",
    "            .replace('Total number of people', r'Number of people')\n",
    "        ),\n",
    "        level=0\n",
    "    )\n",
    ")\n",
    "\n",
    "# Show the resulting dataframe.\n",
    "display(df_temp_marital_status_3)"
   ]
  },
  {
   "cell_type": "markdown",
   "metadata": {},
   "source": [
    "## Check that the total number of people looks right"
   ]
  },
  {
   "cell_type": "markdown",
   "metadata": {},
   "source": [
    "The number of people in Copenhagen in 2019 before the transformation of the dataset has been calculated to ***629,513***. Let's see if our numbers add up:"
   ]
  },
  {
   "cell_type": "code",
   "execution_count": null,
   "metadata": {
    "ExecuteTime": {
     "end_time": "2021-05-14T22:36:30.302920Z",
     "start_time": "2021-05-14T22:36:30.281974Z"
    },
    "pycharm": {
     "name": "#%%\n"
    },
    "scrolled": false
   },
   "outputs": [],
   "source": [
    "# Sum all the number of people in 2019.\n",
    "sum_2019 = (\n",
    "    df_temp_marital_status_3\n",
    "    .loc[df_temp_marital_status_3['Year'] == 2019,\n",
    "         'Number of people']\n",
    "    .to_numpy()\n",
    "    .sum()\n",
    ")\n",
    "\n",
    "# Display the result.\n",
    "printmd(f'The sum of people in Copenhagen in 2019 '\n",
    "        f'has been calculated to ***{sum_2019:,.0f}.***')"
   ]
  },
  {
   "cell_type": "markdown",
   "metadata": {
    "ExecuteTime": {
     "end_time": "2021-05-10T15:58:54.428669Z",
     "start_time": "2021-05-10T15:58:54.416703Z"
    }
   },
   "source": [
    "Everything seems ok."
   ]
  },
  {
   "cell_type": "markdown",
   "metadata": {},
   "source": [
    "## Remove the column `Number of people`"
   ]
  },
  {
   "cell_type": "markdown",
   "metadata": {},
   "source": [
    "We already know the total number of people in each district from the ***Citizenship*** dataset, so we can remove the column `Number of people` and avoid redundancy:"
   ]
  },
  {
   "cell_type": "code",
   "execution_count": null,
   "metadata": {
    "ExecuteTime": {
     "end_time": "2021-05-14T22:36:30.431574Z",
     "start_time": "2021-05-14T22:36:30.304914Z"
    },
    "pycharm": {
     "name": "#%%\n"
    },
    "scrolled": false
   },
   "outputs": [],
   "source": [
    "# Remove the column \"Number of people\".\n",
    "cph_data_superset.marital_status = (\n",
    "    df_temp_marital_status_3\n",
    "    .drop(['Number of people'],\n",
    "          axis=1)\n",
    ")\n",
    "\n",
    "# Show the results.\n",
    "display(cph_data_superset.marital_status)"
   ]
  },
  {
   "cell_type": "markdown",
   "metadata": {},
   "source": [
    "# Prepare dataset for inclusion in the superset: ***Population Movement***\n",
    "\n",
    "<p style=\"border:2px solid black\"> </p>"
   ]
  },
  {
   "cell_type": "markdown",
   "metadata": {},
   "source": [
    "## Display the dataset"
   ]
  },
  {
   "cell_type": "markdown",
   "metadata": {},
   "source": [
    "Let's take a closer look on the data:"
   ]
  },
  {
   "cell_type": "code",
   "execution_count": null,
   "metadata": {
    "ExecuteTime": {
     "end_time": "2021-05-14T22:36:30.459501Z",
     "start_time": "2021-05-14T22:36:30.433569Z"
    },
    "pycharm": {
     "name": "#%%\n"
    },
    "scrolled": false
   },
   "outputs": [],
   "source": [
    "display(cph_data_superset.population_movement)"
   ]
  },
  {
   "cell_type": "markdown",
   "metadata": {},
   "source": [
    "## Express the number of people as fractions of the district-total:"
   ]
  },
  {
   "cell_type": "markdown",
   "metadata": {},
   "source": [
    "To make it easier to compare the districts, we will express the number of people in each category as a fraction of the total number of people in a given district and year:"
   ]
  },
  {
   "cell_type": "code",
   "execution_count": null,
   "metadata": {
    "ExecuteTime": {
     "end_time": "2021-05-14T22:36:30.525323Z",
     "start_time": "2021-05-14T22:36:30.461493Z"
    },
    "pycharm": {
     "name": "#%%\n"
    },
    "scrolled": false
   },
   "outputs": [],
   "source": [
    "# Initialize the processing stage.\n",
    "df_temp_population_movement_1 = cph_data_superset.population_movement.copy()\n",
    "\n",
    "# Get the Number of people from the Citizenship dataset\n",
    "columns = ['Year', 'District', 'Number of people']\n",
    "df_n_people_citizenship = cph_data_superset.citizenship[columns]\n",
    "df_n_people_citizenship.columns = df_n_people_citizenship.columns.droplevel([1, 2, 3])\n",
    "\n",
    "df_temp_population_movement_1 = (\n",
    "    df_temp_population_movement_1\n",
    "    .merge(df_n_people_citizenship,\n",
    "           on=['Year', 'District'],\n",
    "           how='inner')\n",
    ")\n",
    "\n",
    "# Set the name again, as merge deletes it.\n",
    "df_temp_population_movement_1.attrs['name'] = 'Population movement'\n",
    "\n",
    "# Get the columns to express as fractions\n",
    "columns_to_express_as_fractions = get_df_columns(\n",
    "    df_temp_population_movement_1,\n",
    "    exclude=['Year', 'District', 'Number of people']\n",
    ")\n",
    "\n",
    "# Calculate percentages.\n",
    "df_temp_population_movement_1[columns_to_express_as_fractions] = (\n",
    "    df_temp_population_movement_1[columns_to_express_as_fractions]\n",
    "    .div(df_temp_population_movement_1['Number of people'], axis='index')\n",
    "    .mul(100, axis='index')\n",
    ")\n",
    "\n",
    "# Drop the column \"Number of people\".\n",
    "df_temp_population_movement_1 = (\n",
    "    df_temp_population_movement_1\n",
    "    .drop(['Number of people'],\n",
    "          axis=1)\n",
    ")\n",
    "\n",
    "# Adjust the column names.\n",
    "df_temp_population_movement_1.columns = pd.MultiIndex.from_tuples(\n",
    "    [(column, ) + ('', )\n",
    "     if column not in columns_to_express_as_fractions\n",
    "     else\n",
    "     (r'% of people', ) + (column, )\n",
    "     for column in list(df_temp_population_movement_1.columns)]\n",
    ")\n",
    "\n",
    "# Assign the dataframe to the superset object.\n",
    "cph_data_superset.population_movement = df_temp_population_movement_1\n",
    "\n",
    "# Show the resulting dataframe.\n",
    "display(cph_data_superset.population_movement)"
   ]
  },
  {
   "cell_type": "markdown",
   "metadata": {},
   "source": [
    "# Make sure all the tables have the same number of levels in the column index\n",
    "\n",
    "<p style=\"border:2px solid black\"> </p>"
   ]
  },
  {
   "cell_type": "markdown",
   "metadata": {},
   "source": [
    "We are now almost ready to merge the dataframes, but before we do so, we need to ensure that all the Pandas column multiindices have the same number of levels:"
   ]
  },
  {
   "cell_type": "code",
   "execution_count": null,
   "metadata": {
    "ExecuteTime": {
     "end_time": "2021-05-14T22:36:30.809562Z",
     "start_time": "2021-05-14T22:36:30.527318Z"
    },
    "pycharm": {
     "name": "#%%\n"
    },
    "scrolled": false
   },
   "outputs": [],
   "source": [
    "# Get the maximal number of levels present in the column index of\n",
    "# any of the dataframes in the superset.\n",
    "max_n_levels = max([df.columns.nlevels\n",
    "                    for df in cph_data_superset.get_all_dataframes()])\n",
    "\n",
    "# Add empty index layers to columns with less than max levels.\n",
    "for attribute_name, df in get_obj_attributes(cph_data_superset).items():\n",
    "    if df.columns.nlevels < max_n_levels:\n",
    "        df.columns = pd.MultiIndex.from_tuples(\n",
    "            [idx + ('', ) * (max_n_levels - df.columns.nlevels)\n",
    "             if isinstance(idx, tuple)\n",
    "             else (idx, ) + ('', ) * (max_n_levels - df.columns.nlevels)\n",
    "             for idx in list(df.columns)]\n",
    "        )\n",
    "\n",
    "    # Save the dataframe in the object: cph_data_superset.\n",
    "    setattr(cph_data_superset, attribute_name, df)\n",
    "    \n",
    "# Show the processed dataframes.\n",
    "cph_data_superset.display_dataframes()"
   ]
  },
  {
   "cell_type": "markdown",
   "metadata": {},
   "source": [
    "# Create the superset\n",
    "\n",
    "<p style=\"border:2px solid black\"> </p>"
   ]
  },
  {
   "cell_type": "markdown",
   "metadata": {},
   "source": [
    "##  Merge the prepared datasets"
   ]
  },
  {
   "cell_type": "markdown",
   "metadata": {},
   "source": [
    "We are now ready to merge the processed dataframes:"
   ]
  },
  {
   "cell_type": "code",
   "execution_count": null,
   "metadata": {
    "ExecuteTime": {
     "end_time": "2021-05-14T22:36:31.252544Z",
     "start_time": "2021-05-14T22:36:30.811558Z"
    },
    "pycharm": {
     "name": "#%%\n"
    },
    "scrolled": false
   },
   "outputs": [],
   "source": [
    "# Merge all the dataframes in the object: cph_data_superset.\n",
    "for idx_df, df in enumerate(cph_data_superset.get_all_dataframes()):\n",
    "    # The first dataframe is left unaltered.\n",
    "    if idx_df == 0:\n",
    "        df_superset = df\n",
    "\n",
    "    # Each consecutive dataframe is merged with the merge of the previous\n",
    "    # dataframes on columns \"Year\" and \"District\".\n",
    "    else:\n",
    "        df_superset = df_superset.merge(\n",
    "            df,\n",
    "            on=['Year', 'District'],\n",
    "            how='inner',\n",
    "        )\n",
    "\n",
    "# Show the results.\n",
    "printmd('The **superset**:')\n",
    "display(df_superset)\n",
    "display(pd.DataFrame(df_superset['Year'].unique(), columns=['Included years']))\n",
    "display(pd.DataFrame(\n",
    "    df_superset['District'].unique(), columns=['Included districts']))"
   ]
  },
  {
   "cell_type": "markdown",
   "metadata": {},
   "source": [
    "**Success!** The resulting dataframes has 110 rows: one for each combination of 11 unique years and 10 unique districts."
   ]
  },
  {
   "cell_type": "markdown",
   "metadata": {},
   "source": [
    "### Sort columns"
   ]
  },
  {
   "cell_type": "markdown",
   "metadata": {},
   "source": [
    "To keep things in order, let's sort the columns, keeping *Year* and *District* in front:"
   ]
  },
  {
   "cell_type": "code",
   "execution_count": null,
   "metadata": {
    "ExecuteTime": {
     "end_time": "2021-05-14T22:36:31.278471Z",
     "start_time": "2021-05-14T22:36:31.254537Z"
    },
    "pycharm": {
     "name": "#%%\n"
    },
    "scrolled": false
   },
   "outputs": [],
   "source": [
    "# Sort the columns so that Year and District show up first\n",
    "df_superset = (\n",
    "    df_sort_columns(df_superset,\n",
    "                    first_columns=[('Year', '', '', ''),\n",
    "                                   ('District', '', '', '')])\n",
    ")"
   ]
  },
  {
   "cell_type": "markdown",
   "metadata": {},
   "source": [
    "### Save superset dataframe"
   ]
  },
  {
   "cell_type": "markdown",
   "metadata": {},
   "source": [
    "Now, let's save our baby so it doesn't get lost:"
   ]
  },
  {
   "cell_type": "code",
   "execution_count": null,
   "metadata": {
    "ExecuteTime": {
     "end_time": "2021-05-14T22:36:31.289954Z",
     "start_time": "2021-05-14T22:36:31.281465Z"
    },
    "pycharm": {
     "name": "#%%\n"
    },
    "scrolled": false
   },
   "outputs": [],
   "source": [
    "# Save the superset to hard drive.\n",
    "df_superset.to_pickle(path_data_clean_root / 'cph_clean_superset.pkl')"
   ]
  },
  {
   "cell_type": "markdown",
   "metadata": {},
   "source": [
    "### Show data for a chosen district"
   ]
  },
  {
   "cell_type": "markdown",
   "metadata": {},
   "source": [
    "Finaly, let's show an example of data for one of the districts: ***Nørrebro***:"
   ]
  },
  {
   "cell_type": "code",
   "execution_count": null,
   "metadata": {
    "ExecuteTime": {
     "end_time": "2021-05-14T22:36:31.517855Z",
     "start_time": "2021-05-14T22:36:31.293944Z"
    },
    "pycharm": {
     "name": "#%%\n"
    },
    "scrolled": false
   },
   "outputs": [],
   "source": [
    "# Choose district\n",
    "district = 'Nørrebro'\n",
    "\n",
    "# Sort the columns so that Year and District show up first\n",
    "display(\n",
    "    df_superset\n",
    "    .loc[df_superset[('District', '', '')] == district]\n",
    ")"
   ]
  },
  {
   "cell_type": "markdown",
   "metadata": {},
   "source": [
    "# Conclusion\n",
    "\n",
    "<p style=\"border:2px solid black\"> </p>"
   ]
  },
  {
   "cell_type": "markdown",
   "metadata": {},
   "source": [
    "In this notebook we have successfully combined the district-specific data from all the dataframes containing the demographical information for Copenhagen, which we have obtained in the notebook [Loading and Cleaning of Data](https://social-data-analysis-and-visualization-final-project.s3.eu-central-1.amazonaws.com/data_loading_and_cleaning.html). This data will permit us to easily compare different demographical quantities in 10 districts of Copenhagen in the years 2009 - 2019, and, if time permits, perform machine learning on the dataset to possibly uncover the underlying dynamics behind the observations."
   ]
  }
 ],
 "metadata": {
  "hide_input": false,
  "kernelspec": {
   "display_name": "PyCharm (Exercises)",
   "language": "python",
   "name": "pycharm-f0629d26"
  },
  "language_info": {
   "codemirror_mode": {
    "name": "ipython",
    "version": 3
   },
   "file_extension": ".py",
   "mimetype": "text/x-python",
   "name": "python",
   "nbconvert_exporter": "python",
   "pygments_lexer": "ipython3",
   "version": "3.8.5"
  },
  "toc": {
   "base_numbering": 1,
   "nav_menu": {},
   "number_sections": true,
   "sideBar": true,
   "skip_h1_title": false,
   "title_cell": "Table of Contents",
   "title_sidebar": "Contents",
   "toc_cell": true,
   "toc_position": {
    "height": "calc(100% - 180px)",
    "left": "10px",
    "top": "150px",
    "width": "516px"
   },
   "toc_section_display": true,
   "toc_window_display": true
  }
 },
 "nbformat": 4,
 "nbformat_minor": 1
}
