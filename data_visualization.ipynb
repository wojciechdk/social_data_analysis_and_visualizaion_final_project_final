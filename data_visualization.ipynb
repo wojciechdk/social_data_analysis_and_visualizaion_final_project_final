{
 "cells": [
  {
   "cell_type": "markdown",
   "metadata": {},
   "source": [
    "<p style=\"border:2px solid black\"> </p>\n",
    "<span style=\"font-family:Lucida Bright;\">\n",
    "<p style=\"margin-bottom:1cm\"></p>\n",
    "<center>\n",
    "<font size=\"7\"><b>Social Data Analysis and Visualization</b></font>\n",
    "<p style=\"margin-bottom:1cm\"></p>\n",
    "<font size=\"3\"><b>Final Project</b></font>\n",
    "<p style=\"margin-bottom:1cm\"></p>\n",
    "<font size=\"6\"><b>Demographics of Copenhagen</b></font>\n",
    "<p style=\"margin-bottom:0.8cm\"></p>\n",
    "<font size=\"3\"><b>Wojciech Mazurkiewicz, DTU, 14 May 2021</b></font>\n",
    "<p style=\"margin-bottom:1.5cm\"></p>\n",
    "<font size=\"6\"><b>Data Analysis and Visualization</b></font>\n",
    "<br>\n",
    "<font size=\"3\"><b></b></font>\n",
    "</center>\n",
    "<p style=\"margin-bottom:0.7cm\"></p>\n",
    "<p style=\"border:2px solid black\"> </p>"
   ]
  },
  {
   "cell_type": "markdown",
   "metadata": {
    "toc": true
   },
   "source": [
    "<h1>Table of Contents<span class=\"tocSkip\"></span></h1>\n",
    "<div class=\"toc\"><ul class=\"toc-item\"><li><span><a href=\"#How-to-read-this-notebook\" data-toc-modified-id=\"How-to-read-this-notebook-1\"><span class=\"toc-item-num\">1&nbsp;&nbsp;</span>How to read this notebook</a></span></li><li><span><a href=\"#Introduction\" data-toc-modified-id=\"Introduction-2\"><span class=\"toc-item-num\">2&nbsp;&nbsp;</span>Introduction</a></span></li><li><span><a href=\"#Initialization\" data-toc-modified-id=\"Initialization-3\"><span class=\"toc-item-num\">3&nbsp;&nbsp;</span>Initialization</a></span></li><li><span><a href=\"#Load-data\" data-toc-modified-id=\"Load-data-4\"><span class=\"toc-item-num\">4&nbsp;&nbsp;</span>Load data</a></span></li><li><span><a href=\"#Country-of-origin-(without-district-information)\" data-toc-modified-id=\"Country-of-origin-(without-district-information)-5\"><span class=\"toc-item-num\">5&nbsp;&nbsp;</span>Country of origin (without district information)</a></span><ul class=\"toc-item\"><li><span><a href=\"#Load-data\" data-toc-modified-id=\"Load-data-5.1\"><span class=\"toc-item-num\">5.1&nbsp;&nbsp;</span>Load data</a></span></li><li><span><a href=\"#Show-data\" data-toc-modified-id=\"Show-data-5.2\"><span class=\"toc-item-num\">5.2&nbsp;&nbsp;</span>Show data</a></span><ul class=\"toc-item\"><li><span><a href=\"#Plot-the-population-of-top-10-countries-of-origin-for-each-year\" data-toc-modified-id=\"Plot-the-population-of-top-10-countries-of-origin-for-each-year-5.2.1\"><span class=\"toc-item-num\">5.2.1&nbsp;&nbsp;</span>Plot the population of top 10 countries of origin for each year</a></span><ul class=\"toc-item\"><li><span><a href=\"#By-number-of-people\" data-toc-modified-id=\"By-number-of-people-5.2.1.1\"><span class=\"toc-item-num\">5.2.1.1&nbsp;&nbsp;</span>By number of people</a></span></li><li><span><a href=\"#By-percentage-of-the-total-population-of-Copenhagen\" data-toc-modified-id=\"By-percentage-of-the-total-population-of-Copenhagen-5.2.1.2\"><span class=\"toc-item-num\">5.2.1.2&nbsp;&nbsp;</span>By percentage of the total population of Copenhagen</a></span></li><li><span><a href=\"#Interactive-bar-graph-of-2020-with-plotly\" data-toc-modified-id=\"Interactive-bar-graph-of-2020-with-plotly-5.2.1.3\"><span class=\"toc-item-num\">5.2.1.3&nbsp;&nbsp;</span>Interactive bar graph of 2020 with plotly</a></span></li></ul></li><li><span><a href=\"#Plot-the-relationship-between-Danes-and-non-Danes\" data-toc-modified-id=\"Plot-the-relationship-between-Danes-and-non-Danes-5.2.2\"><span class=\"toc-item-num\">5.2.2&nbsp;&nbsp;</span>Plot the relationship between Danes and non-Danes</a></span><ul class=\"toc-item\"><li><span><a href=\"#By-number-of-people\" data-toc-modified-id=\"By-number-of-people-5.2.2.1\"><span class=\"toc-item-num\">5.2.2.1&nbsp;&nbsp;</span>By number of people</a></span></li><li><span><a href=\"#By-percentage-of-the-total-population-of-Copenhagen\" data-toc-modified-id=\"By-percentage-of-the-total-population-of-Copenhagen-5.2.2.2\"><span class=\"toc-item-num\">5.2.2.2&nbsp;&nbsp;</span>By percentage of the total population of Copenhagen</a></span></li><li><span><a href=\"#Interactive-graph-with-plotly\" data-toc-modified-id=\"Interactive-graph-with-plotly-5.2.2.3\"><span class=\"toc-item-num\">5.2.2.3&nbsp;&nbsp;</span>Interactive graph with plotly</a></span></li></ul></li></ul></li></ul></li><li><span><a href=\"#Citizenship\" data-toc-modified-id=\"Citizenship-6\"><span class=\"toc-item-num\">6&nbsp;&nbsp;</span>Citizenship</a></span><ul class=\"toc-item\"><li><span><a href=\"#Load-data\" data-toc-modified-id=\"Load-data-6.1\"><span class=\"toc-item-num\">6.1&nbsp;&nbsp;</span>Load data</a></span></li><li><span><a href=\"#Get-percentage-of-district-population-by-citizenship\" data-toc-modified-id=\"Get-percentage-of-district-population-by-citizenship-6.2\"><span class=\"toc-item-num\">6.2&nbsp;&nbsp;</span>Get percentage of district population by citizenship</a></span></li><li><span><a href=\"#Show-data-for-2020\" data-toc-modified-id=\"Show-data-for-2020-6.3\"><span class=\"toc-item-num\">6.3&nbsp;&nbsp;</span>Show data for 2020</a></span></li><li><span><a href=\"#Create-a-plotly-barplot-showing-the-percentages-of-population-by-citizenship-for-all-districts-in-2020\" data-toc-modified-id=\"Create-a-plotly-barplot-showing-the-percentages-of-population-by-citizenship-for-all-districts-in-2020-6.4\"><span class=\"toc-item-num\">6.4&nbsp;&nbsp;</span>Create a plotly barplot showing the percentages of population by citizenship for all districts in 2020</a></span></li><li><span><a href=\"#Create-a-geoplot-of-the-percentage-of-non-Danes-by-district-over-time\" data-toc-modified-id=\"Create-a-geoplot-of-the-percentage-of-non-Danes-by-district-over-time-6.5\"><span class=\"toc-item-num\">6.5&nbsp;&nbsp;</span>Create a geoplot of the percentage of non-Danes by district over time</a></span><ul class=\"toc-item\"><li><span><a href=\"#All-non-Danes\" data-toc-modified-id=\"All-non-Danes-6.5.1\"><span class=\"toc-item-num\">6.5.1&nbsp;&nbsp;</span>All non-Danes</a></span></li><li><span><a href=\"#Western-non-Danes\" data-toc-modified-id=\"Western-non-Danes-6.5.2\"><span class=\"toc-item-num\">6.5.2&nbsp;&nbsp;</span>Western non-Danes</a></span></li><li><span><a href=\"#Non-western-non-Danes\" data-toc-modified-id=\"Non-western-non-Danes-6.5.3\"><span class=\"toc-item-num\">6.5.3&nbsp;&nbsp;</span>Non-western non-Danes</a></span></li></ul></li></ul></li><li><span><a href=\"#Marital-status\" data-toc-modified-id=\"Marital-status-7\"><span class=\"toc-item-num\">7&nbsp;&nbsp;</span>Marital status</a></span></li><li><span><a href=\"#Family-type-and-children\" data-toc-modified-id=\"Family-type-and-children-8\"><span class=\"toc-item-num\">8&nbsp;&nbsp;</span>Family type and children</a></span></li><li><span><a href=\"#Income\" data-toc-modified-id=\"Income-9\"><span class=\"toc-item-num\">9&nbsp;&nbsp;</span>Income</a></span><ul class=\"toc-item\"><li><span><a href=\"#Load-demographic-data\" data-toc-modified-id=\"Load-demographic-data-9.1\"><span class=\"toc-item-num\">9.1&nbsp;&nbsp;</span>Load demographic data</a></span></li><li><span><a href=\"#Load-geodata\" data-toc-modified-id=\"Load-geodata-9.2\"><span class=\"toc-item-num\">9.2&nbsp;&nbsp;</span>Load geodata</a></span></li><li><span><a href=\"#Get-data-about-the-average-income\" data-toc-modified-id=\"Get-data-about-the-average-income-9.3\"><span class=\"toc-item-num\">9.3&nbsp;&nbsp;</span>Get data about the average income</a></span></li><li><span><a href=\"#Show-geoplot\" data-toc-modified-id=\"Show-geoplot-9.4\"><span class=\"toc-item-num\">9.4&nbsp;&nbsp;</span>Show geoplot</a></span></li></ul></li><li><span><a href=\"#Life-span\" data-toc-modified-id=\"Life-span-10\"><span class=\"toc-item-num\">10&nbsp;&nbsp;</span>Life span</a></span></li><li><span><a href=\"#Population-movement-data\" data-toc-modified-id=\"Population-movement-data-11\"><span class=\"toc-item-num\">11&nbsp;&nbsp;</span>Population movement data</a></span></li><li><span><a href=\"#Dwellings\" data-toc-modified-id=\"Dwellings-12\"><span class=\"toc-item-num\">12&nbsp;&nbsp;</span>Dwellings</a></span></li></ul></div>"
   ]
  },
  {
   "cell_type": "markdown",
   "metadata": {},
   "source": [
    "# How to read this notebook\n",
    "\n",
    "<p style=\"border:2px solid black\"> </p>"
   ]
  },
  {
   "cell_type": "markdown",
   "metadata": {},
   "source": [
    "Please note that the pre-rendered outputs will first display properly when the notebook is __trusted__.\n",
    "\n",
    "If you are viewing the HTML-version of the notebook and would like to download the .ipynm file, you can do it [here](https://social-data-analysis-and-visualization-final-project.s3.eu-central-1.amazonaws.com/data_visualization.ipynb)."
   ]
  },
  {
   "cell_type": "markdown",
   "metadata": {},
   "source": [
    "# Introduction\n",
    "\n",
    "<p style=\"border:2px solid black\"> </p>"
   ]
  },
  {
   "cell_type": "markdown",
   "metadata": {},
   "source": [
    "This notebook aims to describe the process of analyzing and visualizing of the data about different demographical quantities for Copenhagen, including: \n",
    "\n",
    "1. year vs population by country of origin\n",
    "1. year and district vs population by citizenship (Danes vs. western and non-western non-Danes)\n",
    "1. year and district vs population by marital status\n",
    "1. year and district vs number of families by family type and number of children\n",
    "1. year and district vs average income\n",
    "1. year and district vs average life span\n",
    "1. year and district vs population movements (immigration, births, deaths, etc.)  \n",
    "\n",
    "Each demographical quantity is described in its own section. However, as mentioned in the Motivation section of the [Explainer Notebook](https://social-data-analysis-and-visualization-final-project.s3.eu-central-1.amazonaws.com/explainer_notebook.html), the time constraints made it difficult for me to create analyses of all the datasets and quantities I have gathered for this project, and I have therefore taken the approach of letting my webpage story dictate the choice of the analysis to perform, and let results of this analysis inspire the continuation of the story. Therefore, in this section, you will find (almost) solely the analyses of the quantities mentioned on the [webpage](https://social-data-analysis-and-visualization-final-project.s3.eu-central-1.amazonaws.com/website_main.html).\n",
    "\n",
    "I have, however, decided to let the structure of this notebook reflect the quantities of clean data that we have at our disposal, and have therefore kept the sections dedicated to each quantity, even though many of them are empty. I hope this will make it easier to keep an overview of the work that still needs to be done, and make it easier to continue the work on the project."
   ]
  },
  {
   "cell_type": "markdown",
   "metadata": {},
   "source": [
    "# Initialization\n",
    "\n",
    "<p style=\"border:2px solid black\"> </p>"
   ]
  },
  {
   "cell_type": "markdown",
   "metadata": {},
   "source": [
    "The code in this notebook can only run correctly after running the initialization procedure defined in the notebook [Initialization](https://social-data-analysis-and-visualization-final-project.s3.eu-central-1.amazonaws.com/initialization.html), which contains the imports, configuration, and function definitions. Let's run it now:"
   ]
  },
  {
   "cell_type": "code",
   "execution_count": null,
   "metadata": {
    "ExecuteTime": {
     "end_time": "2021-05-14T22:25:02.143438Z",
     "start_time": "2021-05-14T22:24:57.027907Z"
    },
    "scrolled": true
   },
   "outputs": [],
   "source": [
    "%run ./initialization.ipynb"
   ]
  },
  {
   "cell_type": "markdown",
   "metadata": {},
   "source": [
    "# Load data\n",
    "\n",
    "<p style=\"border:2px solid black\"> </p>"
   ]
  },
  {
   "cell_type": "markdown",
   "metadata": {},
   "source": [
    "Let's load the object containing all dataframes containing clean data we have created in the process of [loading and cleaning](https://social-data-analysis-and-visualization-final-project.s3.eu-central-1.amazonaws.com/data_loading_and_cleaning.html). "
   ]
  },
  {
   "cell_type": "code",
   "execution_count": null,
   "metadata": {
    "ExecuteTime": {
     "end_time": "2021-05-14T22:25:02.339950Z",
     "start_time": "2021-05-14T22:25:02.146424Z"
    }
   },
   "outputs": [],
   "source": [
    "cph_data = CphData()"
   ]
  },
  {
   "cell_type": "markdown",
   "metadata": {},
   "source": [
    "# Country of origin (without district information)\n",
    "\n",
    "<p style=\"border:2px solid black\"> </p>"
   ]
  },
  {
   "cell_type": "markdown",
   "metadata": {},
   "source": [
    "## Load data"
   ]
  },
  {
   "cell_type": "markdown",
   "metadata": {},
   "source": [
    "Let's load the data about the population of Copenhagen by the country of origin:"
   ]
  },
  {
   "cell_type": "code",
   "execution_count": null,
   "metadata": {
    "ExecuteTime": {
     "end_time": "2021-05-14T22:25:02.364893Z",
     "start_time": "2021-05-14T22:25:02.341945Z"
    }
   },
   "outputs": [],
   "source": [
    "# Load the data containing information about the population\n",
    "# of Copenhagen by the country of origin.\n",
    "df_country = cph_data.country_of_origin\n",
    "\n",
    "# Show dataframe.\n",
    "display(df_country)"
   ]
  },
  {
   "cell_type": "markdown",
   "metadata": {},
   "source": [
    "## Show data"
   ]
  },
  {
   "cell_type": "markdown",
   "metadata": {},
   "source": [
    "Let's visualize the data. We will start by removing data for 2008 to set the number of available years to 12 for convenience of viewing."
   ]
  },
  {
   "cell_type": "code",
   "execution_count": null,
   "metadata": {
    "ExecuteTime": {
     "end_time": "2021-05-14T22:25:02.452649Z",
     "start_time": "2021-05-14T22:25:02.366878Z"
    },
    "scrolled": false
   },
   "outputs": [],
   "source": [
    "df_country = df_country[df_country['Year'] != 2008]\n",
    "display(df_country)"
   ]
  },
  {
   "cell_type": "markdown",
   "metadata": {},
   "source": [
    "Now, let's create a dataframe where each row will represent a year and each column population of a given country of origin:"
   ]
  },
  {
   "cell_type": "code",
   "execution_count": null,
   "metadata": {
    "ExecuteTime": {
     "end_time": "2021-05-14T22:25:02.838617Z",
     "start_time": "2021-05-14T22:25:02.455641Z"
    },
    "scrolled": false
   },
   "outputs": [],
   "source": [
    "# Create a dataframe where each row represents a year and each columnn\n",
    "df_country_vs_year = (\n",
    "    df_country\n",
    "    .loc[:,\n",
    "         ['Year', 'Country of origin', 'Number of people']]\n",
    "    .groupby(['Year', 'Country of origin'])\n",
    "    .sum()\n",
    "    .unstack(level=1)\n",
    "    .droplevel(0, axis=1)\n",
    ")\n",
    "\n",
    "# Save the dataframe to pickle.\n",
    "df_country_vs_year.to_pickle(path_data_clean_root / 'df_country_of_origin_vs_year.pkl')\n",
    "\n",
    "# Show the results.\n",
    "display(df_country_vs_year)"
   ]
  },
  {
   "cell_type": "markdown",
   "metadata": {},
   "source": [
    "### Plot the population of top 10 countries of origin for each year"
   ]
  },
  {
   "cell_type": "markdown",
   "metadata": {},
   "source": [
    "We start by getting the list of years, from most recent to least recent:"
   ]
  },
  {
   "cell_type": "code",
   "execution_count": null,
   "metadata": {
    "ExecuteTime": {
     "end_time": "2021-05-14T22:25:02.859560Z",
     "start_time": "2021-05-14T22:25:02.843604Z"
    },
    "scrolled": true
   },
   "outputs": [],
   "source": [
    "# Get a list of countries represented in the dataframe,\n",
    "# Sorted by summarized number of people over the years\n",
    "countries_sorted_by_number_of_people = (\n",
    "    df_country_vs_year\n",
    "    .sum()\n",
    "    .sort_values(ascending=False)\n",
    "    .index\n",
    "    .to_list()\n",
    ")\n",
    "\n",
    "# Show the countries sorted by population\n",
    "# display(countries_sorted_by_number_of_people)\n",
    "\n",
    "# Years from biggest to smallest.\n",
    "years = df_country_vs_year.index.to_list()\n",
    "years.sort(reverse=True)\n",
    "\n",
    "# Show the results.\n",
    "display(years)"
   ]
  },
  {
   "cell_type": "markdown",
   "metadata": {},
   "source": [
    "#### By number of people"
   ]
  },
  {
   "cell_type": "markdown",
   "metadata": {},
   "source": [
    "Now we can show the total population of each of the countries for all the years:"
   ]
  },
  {
   "cell_type": "code",
   "execution_count": null,
   "metadata": {
    "ExecuteTime": {
     "end_time": "2021-05-14T22:25:06.324518Z",
     "start_time": "2021-05-14T22:25:02.865546Z"
    },
    "scrolled": false
   },
   "outputs": [],
   "source": [
    "# Get the number of years.\n",
    "n_years = len(years)\n",
    "\n",
    "# Get the number of counries.\n",
    "n_countries = len(countries_sorted_by_number_of_people)\n",
    "\n",
    "# Get the number of plots.\n",
    "n_plots = len(years)\n",
    "\n",
    "# Define the plot grid.\n",
    "n_plot_columns = 3\n",
    "n_plot_rows = int(np.ceil(n_plots / n_plot_columns))\n",
    "\n",
    "# Create a figure for the plots.\n",
    "figure, all_axes = plt.subplots(\n",
    "    n_plot_rows, n_plot_columns,\n",
    "    figsize=(5 * n_plot_columns + 2, 5 * n_plot_rows),\n",
    "    gridspec_kw={'hspace': 0.3}\n",
    ")\n",
    "\n",
    "# Get the handles of the bottom axes'.\n",
    "bottom_axes = all_axes[-1, :]\n",
    "\n",
    "# Define colors.\n",
    "n_countries_to_map = 15\n",
    "color_palette = sns.color_palette(\"hls\",\n",
    "                                  n_colors=n_countries_to_map)\n",
    "\n",
    "# Map the colors to countries.\n",
    "color_mapping = {country: color\n",
    "                 for country, color\n",
    "                 in zip(countries_sorted_by_number_of_people[:n_countries_to_map],\n",
    "                        color_palette)}\n",
    "\n",
    "# Plot.\n",
    "for idx, (year, axes) in enumerate(zip(years, all_axes.ravel()[:n_plots])):\n",
    "\n",
    "    total = df_country_vs_year.at[year, 'Total']\n",
    "\n",
    "    sns.barplot(\n",
    "        data=(\n",
    "            df_country_vs_year\n",
    "            .loc[year, ~df_country_vs_year.columns.isin(['Total'])]\n",
    "            .sort_values(ascending=False)\n",
    "            .head(10)\n",
    "            .div(1e3)\n",
    "            .reset_index()\n",
    "        ),\n",
    "        x='Country of origin',\n",
    "        y=year,\n",
    "        ax=axes,\n",
    "        palette=color_mapping)\n",
    "\n",
    "    # Set the title of the plot.\n",
    "    axes.set_title(year, y=0.88)\n",
    "    axes.set_xlabel('')\n",
    "    axes.set_ylabel('')\n",
    "    axes.set_ylim([axes.get_ylim()[0], total / 1e3 * 1.2])\n",
    "    \n",
    "    draw_threshold(total * 1e-3, axes, title=f'Total: {total:,.0f}')\n",
    "\n",
    "    # Rotate x tick labels.\n",
    "    plt.setp(\n",
    "        axes.get_xticklabels(),\n",
    "        rotation=45,\n",
    "        ha='right',\n",
    "        va='top',\n",
    "    )\n",
    "\n",
    "    # Apply the standard formatting.\n",
    "    format_axes_annotation(axes)\n",
    "\n",
    "# Annotate the figure.\n",
    "# figure_x_label(figure, 'Day of week', y_position=0.06)\n",
    "figure_y_label(figure, 'Population in Copenhagen region [thousands]', x_position=0.08)\n",
    "figure.suptitle('10 most represented countries of origin in Copenhagen', \n",
    "                size=24,\n",
    "                y=0.91)\n",
    "figure.set_facecolor(\"white\")"
   ]
  },
  {
   "cell_type": "markdown",
   "metadata": {},
   "source": [
    "We can see that Danes vastly outnumber any other nationality group in Copenhagen."
   ]
  },
  {
   "cell_type": "markdown",
   "metadata": {},
   "source": [
    "#### By percentage of the total population of Copenhagen"
   ]
  },
  {
   "cell_type": "markdown",
   "metadata": {},
   "source": [
    "Instead of showing the absolute numbers, it might be more interesting to see the populations as a fraction of the total population of Copenhagen:"
   ]
  },
  {
   "cell_type": "code",
   "execution_count": null,
   "metadata": {
    "ExecuteTime": {
     "end_time": "2021-05-14T22:25:09.682873Z",
     "start_time": "2021-05-14T22:25:06.328507Z"
    },
    "scrolled": false
   },
   "outputs": [],
   "source": [
    "# Years from biggest to smallest.\n",
    "years = df_country_vs_year.index.to_list()\n",
    "years.sort(reverse=True)\n",
    "\n",
    "# Get the number of counries.\n",
    "n_countries = len(countries_sorted_by_number_of_people)\n",
    "\n",
    "# Get the number of plots.\n",
    "n_plots = len(years)\n",
    "\n",
    "# Define the plot grid.\n",
    "n_plot_columns = 3\n",
    "n_plot_rows = int(np.ceil(n_plots / n_plot_columns))\n",
    "\n",
    "# Create a figure for the plots.\n",
    "figure, all_axes = plt.subplots(\n",
    "    n_plot_rows, n_plot_columns,\n",
    "    sharey='all',\n",
    "    figsize=(5 * n_plot_columns + 2, 5 * n_plot_rows),\n",
    "    gridspec_kw={'hspace': 0.3}\n",
    ")\n",
    "\n",
    "# Get the handles of the bottom axes'.\n",
    "bottom_axes = all_axes[-1, :]\n",
    "\n",
    "# Define colors.\n",
    "n_countries_to_map = 15\n",
    "color_palette = sns.color_palette(\"hls\",\n",
    "                                  n_colors=n_countries_to_map)\n",
    "\n",
    "# Map the colors to countries.\n",
    "color_mapping = {country: color\n",
    "                 for country, color\n",
    "                 in zip(countries_sorted_by_number_of_people[:n_countries_to_map],\n",
    "                        color_palette)}\n",
    "\n",
    "# Plot.\n",
    "for idx, (year, axes) in enumerate(zip(years, all_axes.ravel()[:n_plots])):\n",
    "    \n",
    "    # The total number of people in Copenhagen.\n",
    "    total = df_country_vs_year.at[year, 'Total']\n",
    "    \n",
    "    # Show the barplot.\n",
    "    sns.barplot(\n",
    "        data=(\n",
    "            df_country_vs_year\n",
    "            .loc[year, ~df_country_vs_year.columns.isin(['Total'])]\n",
    "            .sort_values(ascending=False)\n",
    "            .head(10)\n",
    "            .mul(100 / total)\n",
    "            .reset_index()\n",
    "        ),\n",
    "        x='Country of origin',\n",
    "        y=year,\n",
    "        ax=axes,\n",
    "        palette=color_mapping)\n",
    "\n",
    "    # Set the title of the plot.\n",
    "    axes.set_title(year, y=0.9)\n",
    "    axes.set_xlabel('')\n",
    "    axes.set_ylabel('')\n",
    "\n",
    "    # Rotate x tick labels.\n",
    "    plt.setp(\n",
    "        axes.get_xticklabels(),\n",
    "        rotation=45,\n",
    "        ha='right',\n",
    "        va='top',\n",
    "    )\n",
    "\n",
    "    # Apply the standard formatting.\n",
    "    format_axes_annotation(axes)\n",
    "\n",
    "# Annotate the figure.\n",
    "# figure_x_label(figure, 'Day of week', y_position=0.06)\n",
    "figure_y_label(figure, r'% of polulation in Copenhagen region', x_position=0.08)\n",
    "figure.suptitle('10 most represented countries of origin in Copenhagen', \n",
    "                size=24,\n",
    "                y=0.91)\n",
    "\n",
    "figure.set_facecolor(\"white\")\n",
    "\n",
    "figure.savefig(path_results_root / 'country_of_origin_10_most_represented.png', bbox_inches='tight')"
   ]
  },
  {
   "cell_type": "markdown",
   "metadata": {},
   "source": [
    "From this graph, it is possible to see the fraction of the population of Copenhagen constituted by the Danes, but it is virtually impossible to estimate the fraction of any other nationality. To do that, let's create an interactive plot using plotly."
   ]
  },
  {
   "cell_type": "markdown",
   "metadata": {},
   "source": [
    "#### Interactive bar graph of 2020 with plotly"
   ]
  },
  {
   "cell_type": "markdown",
   "metadata": {},
   "source": [
    "We can also make the graph interactive by creating it using plotly:"
   ]
  },
  {
   "cell_type": "code",
   "execution_count": null,
   "metadata": {
    "ExecuteTime": {
     "end_time": "2021-05-14T22:25:13.391648Z",
     "start_time": "2021-05-14T22:25:09.684868Z"
    }
   },
   "outputs": [],
   "source": [
    "# Define the year of interest.\n",
    "year = 2020\n",
    "\n",
    "# Create a dataframe that shows % of population by country of origin\n",
    "# in the chosen year.\n",
    "df_country_2020 = (\n",
    "    df_country_vs_year\n",
    "    .loc[year, ~df_country_vs_year.columns.isin(['Total'])]\n",
    "    .sort_values(ascending=False)\n",
    "    .head(10)\n",
    "    .mul(100 / df_country_vs_year.at[year, 'Total'])\n",
    "    .reset_index()\n",
    "    .rename(columns={year: '% of population'})\n",
    ")\n",
    "\n",
    "# Create the plotly bar graph.\n",
    "fig = px.bar(\n",
    "    df_country_2020,\n",
    "    x='Country of origin',\n",
    "    y='% of population',\n",
    "#     barmode='group',\n",
    "    color='Country of origin',\n",
    "    color_discrete_sequence=px.colors.qualitative.D3\n",
    ")\n",
    "\n",
    "# Update the layout of the figure.\n",
    "fig.update_layout(\n",
    "    dict(plot_bgcolor='rgb(256, 256, 256)',\n",
    "         paper_bgcolor='rgb(256, 256, 256)',\n",
    "         title=dict(text=\"Population of Copenhagen in 2020\",\n",
    "                    x=0.5,\n",
    "                    xanchor='center',\n",
    "                    yanchor='top'),\n",
    "         xaxis=dict(tickmode='linear',\n",
    "                    #                         tick0=0.5\n",
    "                    dtick=1),\n",
    "         showlegend=False\n",
    "#          annotations=caption_attributes(caption, y),\n",
    "#          margin=margin\n",
    "         )\n",
    ")\n",
    "\n",
    "# Show the figure\n",
    "fig.show()"
   ]
  },
  {
   "cell_type": "markdown",
   "metadata": {},
   "source": [
    "We can now read directly off the graph that 74.29% of the population of Copenhagen in 2020 was of Danish origin. The second largest national group, the Pakistanis, constituted only 1.39% of the population that year."
   ]
  },
  {
   "cell_type": "markdown",
   "metadata": {},
   "source": [
    "### Plot the relationship between Danes and non-Danes "
   ]
  },
  {
   "cell_type": "markdown",
   "metadata": {},
   "source": [
    "Let's create a dataframe where we will divide all countries of origin into two categories: Danes and non-Danes:"
   ]
  },
  {
   "cell_type": "code",
   "execution_count": null,
   "metadata": {
    "ExecuteTime": {
     "end_time": "2021-05-14T22:25:13.534979Z",
     "start_time": "2021-05-14T22:25:13.393643Z"
    },
    "scrolled": false
   },
   "outputs": [],
   "source": [
    "# Get the number of counries.\n",
    "n_countries = len(countries_sorted_by_number_of_people)\n",
    "\n",
    "# Get the number of plots.\n",
    "n_plots = len(years)\n",
    "\n",
    "# Define the plot grid.\n",
    "n_plot_columns = 3\n",
    "n_plot_rows = int(np.ceil(n_plots / n_plot_columns))\n",
    "\n",
    "# Create a dataframe with data for danes vs non-danes.\n",
    "df_danes_vs_non_danes = (\n",
    "    df_country_vs_year\n",
    "    .loc[:, 'Denmark']\n",
    "    .to_frame('Danes')\n",
    ")\n",
    "\n",
    "df_danes_vs_non_danes['Non-danes'] = (\n",
    "    df_country_vs_year\n",
    "    .loc[:, ~df_country_vs_year.columns.isin(['Total', 'Denmark'])]\n",
    "    .sum(axis=1)\n",
    "    .to_frame('Non-danes')\n",
    ")\n",
    "\n",
    "df_danes_vs_non_danes[['% Danes', '% Non-danes']] = (\n",
    "    df_danes_vs_non_danes[['Danes', 'Non-danes']]\n",
    "    .div(df_danes_vs_non_danes.sum(axis=1), axis=0)\n",
    "    .mul(100)\n",
    ")\n",
    "\n",
    "\n",
    "# Save the dataframe to a file\n",
    "df_danes_vs_non_danes.to_pickle(\n",
    "    path_data_clean_root / 'df_danes_vs_non_danes.pkl')\n",
    "\n",
    "\n",
    "# Show the dataframe\n",
    "display(df_danes_vs_non_danes)"
   ]
  },
  {
   "cell_type": "markdown",
   "metadata": {},
   "source": [
    "####  By number of people"
   ]
  },
  {
   "cell_type": "markdown",
   "metadata": {},
   "source": [
    "Let's show how the number of Danes and non-Danes have developed over the years."
   ]
  },
  {
   "cell_type": "code",
   "execution_count": null,
   "metadata": {
    "ExecuteTime": {
     "end_time": "2021-05-14T22:25:14.402225Z",
     "start_time": "2021-05-14T22:25:13.537971Z"
    },
    "scrolled": false
   },
   "outputs": [],
   "source": [
    "# Create a figure for the plots.\n",
    "figure, axes = plt.subplots(figsize=(15, 8))\n",
    "\n",
    "# Create the barplot for each year.\n",
    "sns.barplot(data=(df_danes_vs_non_danes[['Danes', 'Non-danes']]\n",
    "                  .div(1e3)\n",
    "                  .reset_index()\n",
    "                  .melt(id_vars='Year',\n",
    "                        var_name='Origin',\n",
    "                        value_name='Number of people')),\n",
    "            x='Year',\n",
    "            y='Number of people',\n",
    "            hue='Origin',\n",
    "            ax=axes)\n",
    "\n",
    "# Total population over the years.\n",
    "total = (\n",
    "    df_danes_vs_non_danes[['Danes', 'Non-danes']]\n",
    "    .div(1e3)\n",
    "    .sum(axis=1)\n",
    "    .to_numpy()\n",
    ")\n",
    "\n",
    "# Plot total population.\n",
    "axes.plot(df_danes_vs_non_danes[['Danes', 'Non-danes']].div(1e3).sum(axis=1).to_numpy(),\n",
    "          color='red')\n",
    "\n",
    "# Annotate.\n",
    "axes.set_ylabel('Number of people [thousands]')\n",
    "axes.text(0, total[0] + 20, 'Total population', rotation = 5, size=14)\n",
    "\n",
    "# Format plot.\n",
    "format_axes(axes)\n",
    "format_axes_annotation(axes)\n",
    "figure.set_facecolor(\"white\")\n",
    "\n",
    "# Save the plot.\n",
    "figure.savefig(path_results_root / 'total_population_danes_vs_non_danes_absolute.png')\n"
   ]
  },
  {
   "cell_type": "markdown",
   "metadata": {},
   "source": [
    "Here, we can see the population of Danes and non-Danes in absolute numbers, but it can be difficult to estimate the proportions between the two groups. To make it easier, let's express the size of each population in terms of the fraction of the total population of Copenhagen."
   ]
  },
  {
   "cell_type": "markdown",
   "metadata": {},
   "source": [
    "#### By percentage of the total population of Copenhagen"
   ]
  },
  {
   "cell_type": "markdown",
   "metadata": {},
   "source": [
    "As mentioned above, it might be easier to get an intuition about the numbers if the sizes of the populations are expressed as fractions of the total population of Copenhagen:"
   ]
  },
  {
   "cell_type": "code",
   "execution_count": null,
   "metadata": {
    "ExecuteTime": {
     "end_time": "2021-05-14T22:25:15.164207Z",
     "start_time": "2021-05-14T22:25:14.403227Z"
    },
    "scrolled": false
   },
   "outputs": [],
   "source": [
    "# Create a figure for the plots.\n",
    "figure, axes = plt.subplots(figsize=(15, 8))\n",
    "\n",
    "# Create the barplot for each year.\n",
    "sns.barplot(data=(df_danes_vs_non_danes[['% Danes', '% Non-danes']]\n",
    "                  .rename(columns={'% Danes': 'Danes',\n",
    "                                   '% Non-danes': 'Non-danes'})\n",
    "                  .reset_index()\n",
    "                  .melt(id_vars='Year',\n",
    "                        var_name='Origin',\n",
    "                        value_name='% of population')),\n",
    "            x='Year',\n",
    "            y='% of population',\n",
    "            hue='Origin',\n",
    "            ax=axes)\n",
    "\n",
    "# Set axes limits (to make room for the legend)\n",
    "axes.set_ylim((0, 90))\n",
    "axes.set_title('Population of Copenhagen by country of origin')\n",
    "\n",
    "format_axes(axes)\n",
    "format_axes_annotation(axes)\n",
    "figure.set_facecolor(\"white\")\n",
    "\n",
    "# Save the plot.\n",
    "figure.savefig(path_results_root /\n",
    "               'total_population_danes_vs_non_danes_pct.png')"
   ]
  },
  {
   "cell_type": "markdown",
   "metadata": {},
   "source": [
    "Now, it is easy to see that proportions of Danes to non-Danes have changed between 2009 and 2020, and the the fraction of non-Danes is now bigger. It is, however, not easy to estimate the exact magnitude of the change. To make it possible, we once again turn to the interactive plotly plots."
   ]
  },
  {
   "cell_type": "markdown",
   "metadata": {},
   "source": [
    "#### Interactive graph with plotly"
   ]
  },
  {
   "cell_type": "markdown",
   "metadata": {},
   "source": [
    "Let's create a copy of the graph above, and give the user the exact values for each bar when they hover the mouse pointer over it:"
   ]
  },
  {
   "cell_type": "code",
   "execution_count": null,
   "metadata": {
    "ExecuteTime": {
     "end_time": "2021-05-14T22:25:15.436502Z",
     "start_time": "2021-05-14T22:25:15.168194Z"
    },
    "scrolled": false
   },
   "outputs": [],
   "source": [
    "# Get a dataframe only containing the representations in  %\n",
    "df_danes_non_danes_pct = (\n",
    "    df_danes_vs_non_danes[['% Danes', '% Non-danes']]\n",
    "    .rename(columns={'% Danes': 'Danes',\n",
    "                     '% Non-danes': 'Non-danes'})\n",
    "    .reset_index()\n",
    "    .melt(id_vars='Year',\n",
    "          var_name='Origin',\n",
    "          value_name='% of population')\n",
    ")\n",
    "\n",
    "# Create a figure containing the plotly bar graph.\n",
    "fig = px.bar(\n",
    "    df_danes_non_danes_pct,\n",
    "    x='Year',\n",
    "    y='% of population',\n",
    "    color='Origin',\n",
    "    barmode='group',\n",
    "    color_discrete_sequence=px.colors.qualitative.D3\n",
    ")\n",
    "\n",
    "# Adjust the layout.\n",
    "fig.update_layout(\n",
    "    dict(plot_bgcolor='rgb(256, 256, 256)',\n",
    "         paper_bgcolor='rgb(256, 256, 256)',\n",
    "         title=dict(text=\"Population of Copenhagen\",\n",
    "                    x=0.5,\n",
    "                    xanchor='center',\n",
    "                    yanchor='top'),\n",
    "         xaxis=dict(tickmode='linear',\n",
    "#                     tick0=0.5,\n",
    "                    dtick=1)\n",
    "         )\n",
    ")\n",
    "\n",
    "# Show the figure.\n",
    "fig.show()\n",
    "\n",
    "# Save as HTML\n",
    "fig.write_html(str(\n",
    "    path_results_root / 'total_population_danes_vs_non_danes_pct.html'))"
   ]
  },
  {
   "cell_type": "markdown",
   "metadata": {},
   "source": [
    "Now, we know exactly that the fraction of Danes has diminished from 78.4% in 2009 to 74.3% in 2020."
   ]
  },
  {
   "cell_type": "markdown",
   "metadata": {},
   "source": [
    "# Citizenship\n",
    "<p style=\"border:2px solid black\"> </p>"
   ]
  },
  {
   "cell_type": "markdown",
   "metadata": {},
   "source": [
    "## Load data"
   ]
  },
  {
   "cell_type": "markdown",
   "metadata": {},
   "source": [
    "Let's load the data containing information about the size of the population of Copenhagen by year and citizenship:"
   ]
  },
  {
   "cell_type": "code",
   "execution_count": null,
   "metadata": {
    "ExecuteTime": {
     "end_time": "2021-05-14T22:25:15.733719Z",
     "start_time": "2021-05-14T22:25:15.440494Z"
    },
    "scrolled": true
   },
   "outputs": [],
   "source": [
    "# Load the data\n",
    "cph_data = CphData()\n",
    "\n",
    "# Get the citizenship database\n",
    "df_citizenship = cph_data.citizenship\n",
    "display(df_citizenship)"
   ]
  },
  {
   "cell_type": "markdown",
   "metadata": {},
   "source": [
    "## Get percentage of district population by citizenship"
   ]
  },
  {
   "cell_type": "markdown",
   "metadata": {},
   "source": [
    "To be able to better compare the districts, let's add a column where express the size of the population as a percentage of the total district population:"
   ]
  },
  {
   "cell_type": "code",
   "execution_count": null,
   "metadata": {
    "ExecuteTime": {
     "end_time": "2021-05-14T22:25:15.864358Z",
     "start_time": "2021-05-14T22:25:15.736699Z"
    }
   },
   "outputs": [],
   "source": [
    "# Get the district data by year.\n",
    "df_citizenhip_by_district = (\n",
    "    df_citizenship\n",
    "    .loc[df_citizenship['District type'] == 'District']\n",
    "    .groupby(get_df_columns(df_citizenship,\n",
    "                            exclude=['Sex', 'Age', 'Number of people']),\n",
    "             as_index=False)\n",
    "    .sum()\n",
    "    .drop(['Quarter', 'District type'], axis=1)\n",
    ")\n",
    "\n",
    "# Add the % of district population.\n",
    "df_citizenhip_by_district['% of district population'] = (\n",
    "    df_citizenhip_by_district\n",
    "    .groupby(['Year', 'District'])['Number of people']\n",
    "    .transform(np.sum)\n",
    "    .div(df_citizenhip_by_district['Number of people'])\n",
    "    .pow(-1)\n",
    "    .mul(100)\n",
    ")\n",
    "\n",
    "# Show the dataframe.\n",
    "display(df_citizenhip_by_district)"
   ]
  },
  {
   "cell_type": "markdown",
   "metadata": {},
   "source": [
    "## Show data for 2020"
   ]
  },
  {
   "cell_type": "markdown",
   "metadata": {},
   "source": [
    "To check if everything looks fine, let's view the data for 2020:"
   ]
  },
  {
   "cell_type": "code",
   "execution_count": null,
   "metadata": {
    "ExecuteTime": {
     "end_time": "2021-05-14T22:25:15.978055Z",
     "start_time": "2021-05-14T22:25:15.868349Z"
    },
    "scrolled": false
   },
   "outputs": [],
   "source": [
    "# Define the data for 2020.\n",
    "year = 2020\n",
    "\n",
    "# Get the dataframe for the chosen year. \n",
    "# Let's sort by % of district popuplation.\n",
    "df_citizenhip_by_district_2020 = (\n",
    "    df_citizenhip_by_district\n",
    "    .loc[df_citizenhip_by_district['Year'] == year]\n",
    "    .sort_values(by=['Year', '% of district population'], ascending=False)\n",
    ")\n",
    "\n",
    "# Show the results\n",
    "display(df_citizenhip_by_district_2020.head(15))"
   ]
  },
  {
   "cell_type": "markdown",
   "metadata": {},
   "source": [
    "## Create a plotly barplot showing the percentages of population by citizenship for all districts in 2020"
   ]
  },
  {
   "cell_type": "markdown",
   "metadata": {},
   "source": [
    "Now, let's visualize the data. We will do it using an interactive, grouped bar plot using plotly. We also sort the data so that the districts with the highest fraction of Danes will appear most to the left."
   ]
  },
  {
   "cell_type": "code",
   "execution_count": null,
   "metadata": {
    "ExecuteTime": {
     "end_time": "2021-05-14T22:25:16.114688Z",
     "start_time": "2021-05-14T22:25:15.981046Z"
    },
    "scrolled": false
   },
   "outputs": [],
   "source": [
    "# Create the plotly bar graph.\n",
    "fig = px.bar(\n",
    "    df_citizenhip_by_district_2020,\n",
    "    x='District',\n",
    "    y='% of district population',\n",
    "    barmode='group',\n",
    "    color='Citizenship',\n",
    "    color_discrete_sequence=px.colors.qualitative.D3\n",
    ")\n",
    "\n",
    "# Update the layout of the figure.\n",
    "fig.update_layout(\n",
    "    dict(plot_bgcolor='rgb(256, 256, 256)',\n",
    "         paper_bgcolor='rgb(256, 256, 256)',\n",
    "         title=dict(text=\"Population of Copenhagen by district and citizenship\",\n",
    "                    x=0.5,\n",
    "                    xanchor='center',\n",
    "                    yanchor='top'),\n",
    "         xaxis=dict(tickmode='linear',\n",
    "                    #                         tick0=0.5\n",
    "                    dtick=1),\n",
    "         showlegend=True,\n",
    "         xaxis_title=None\n",
    "#          annotations=caption_attributes(caption, y),\n",
    "#          margin=margin\n",
    "         )\n",
    ")\n",
    "\n",
    "# Show the figure\n",
    "fig.show()"
   ]
  },
  {
   "cell_type": "markdown",
   "metadata": {},
   "source": [
    "## Create a geoplot of the percentage of non-Danes by district over time"
   ]
  },
  {
   "cell_type": "markdown",
   "metadata": {},
   "source": [
    "Alright, let's do some animations, and try to visualize how the percentage of non-Danes have developed in different districts of Copenhagen over the years."
   ]
  },
  {
   "cell_type": "markdown",
   "metadata": {},
   "source": [
    "### All non-Danes"
   ]
  },
  {
   "cell_type": "markdown",
   "metadata": {},
   "source": [
    "The non-Danes can be divided in Western non-Danes and non-Western non-Danes. Let's start by not differentiating between them."
   ]
  },
  {
   "cell_type": "code",
   "execution_count": null,
   "metadata": {
    "ExecuteTime": {
     "end_time": "2021-05-14T22:25:30.178483Z",
     "start_time": "2021-05-14T22:25:16.117681Z"
    }
   },
   "outputs": [],
   "source": [
    "show_pct_non_danes_over_time(\n",
    "    group='all',\n",
    "    caption=None,\n",
    "    caption_y=-0.05,\n",
    "    margin=dict(r=0,\n",
    "                t=30,\n",
    "                l=0,\n",
    "                b=0),\n",
    "    range_color=(0, 25)\n",
    ")"
   ]
  },
  {
   "cell_type": "markdown",
   "metadata": {},
   "source": [
    "If we set the color range from 0 to 25% The visualization looks very dramatic. Especially Bispebjerg and Brjønshøj-Husum go into dark reds in 2017, but fade a little bit towards 2020. The drama is can be taken completely out of the animation by altering the color range to run from 0 to 100%, in which case one can barely trace the difference. I won't show it here, since I already present this effect in the [Explainer Notebook](https://social-data-analysis-and-visualization-final-project.s3.eu-central-1.amazonaws.com/explainer_notebook.html)."
   ]
  },
  {
   "cell_type": "markdown",
   "metadata": {},
   "source": [
    "### Western non-Danes"
   ]
  },
  {
   "cell_type": "markdown",
   "metadata": {},
   "source": [
    "Now, let's look only at the development of the population of Western non-Danes:"
   ]
  },
  {
   "cell_type": "code",
   "execution_count": null,
   "metadata": {
    "ExecuteTime": {
     "end_time": "2021-05-14T22:25:45.781945Z",
     "start_time": "2021-05-14T22:25:30.180478Z"
    },
    "scrolled": false
   },
   "outputs": [],
   "source": [
    "show_pct_non_danes_over_time(\n",
    "    group='western',\n",
    "    caption=None,\n",
    "    caption_y=-0.05,\n",
    "    margin=dict(r=0,\n",
    "                t=30,\n",
    "                l=0,\n",
    "                b=0),\n",
    "    range_color=(0, 25)\n",
    ")"
   ]
  },
  {
   "cell_type": "markdown",
   "metadata": {},
   "source": [
    "Here, we can see that the Western non-Danes prefer central Copenhagen more than the other areas."
   ]
  },
  {
   "cell_type": "markdown",
   "metadata": {},
   "source": [
    "### Non-western non-Danes"
   ]
  },
  {
   "cell_type": "markdown",
   "metadata": {},
   "source": [
    "And now, let's look at the non-western non-Danes:"
   ]
  },
  {
   "cell_type": "code",
   "execution_count": null,
   "metadata": {
    "ExecuteTime": {
     "end_time": "2021-05-14T22:26:00.927627Z",
     "start_time": "2021-05-14T22:25:45.784935Z"
    },
    "scrolled": false
   },
   "outputs": [],
   "source": [
    "show_pct_non_danes_over_time(\n",
    "    group='non-western',\n",
    "    caption=None,\n",
    "    caption_y=-0.05,\n",
    "    margin=dict(r=0,\n",
    "                t=30,\n",
    "                l=0,\n",
    "                b=0),\n",
    "    range_color=(0, 25)\n",
    ")"
   ]
  },
  {
   "cell_type": "markdown",
   "metadata": {},
   "source": [
    "The non-Western non-Danes do not choose the same places to settle as their Western counterpart. From the animation we can deduct that their favorite location is Brønshøj-Husum."
   ]
  },
  {
   "cell_type": "markdown",
   "metadata": {},
   "source": [
    "# Marital status\n",
    "<p style=\"border:2px solid black\"> </p>"
   ]
  },
  {
   "cell_type": "markdown",
   "metadata": {},
   "source": [
    "No analysis yet available."
   ]
  },
  {
   "cell_type": "markdown",
   "metadata": {},
   "source": [
    "# Family type and children\n",
    "<p style=\"border:2px solid black\"> </p>"
   ]
  },
  {
   "cell_type": "markdown",
   "metadata": {},
   "source": [
    "No analysis yet available."
   ]
  },
  {
   "cell_type": "markdown",
   "metadata": {},
   "source": [
    "# Income\n",
    "<p style=\"border:2px solid black\"> </p>"
   ]
  },
  {
   "cell_type": "markdown",
   "metadata": {},
   "source": [
    "Now, it's about money. Let's take a look at how much we earn!"
   ]
  },
  {
   "cell_type": "markdown",
   "metadata": {},
   "source": [
    "## Load demographic data"
   ]
  },
  {
   "cell_type": "markdown",
   "metadata": {},
   "source": [
    "Let's start by loading the dataframe containing the superset containing the combination of available data organized by year and district."
   ]
  },
  {
   "cell_type": "code",
   "execution_count": null,
   "metadata": {
    "ExecuteTime": {
     "end_time": "2021-05-14T22:26:01.276784Z",
     "start_time": "2021-05-14T22:26:00.929623Z"
    },
    "scrolled": false
   },
   "outputs": [],
   "source": [
    "# Load the dataframe containing all available data organized by year and district.\n",
    "df_superset = pd.read_pickle(path_data_clean_root / 'cph_clean_superset.pkl')\n",
    "\n",
    "# Show the dataframe.\n",
    "display(df_superset)"
   ]
  },
  {
   "cell_type": "markdown",
   "metadata": {},
   "source": [
    "## Load geodata"
   ]
  },
  {
   "cell_type": "markdown",
   "metadata": {},
   "source": [
    "Load the geoshapes for the districts of Copenhagen from a geojson file."
   ]
  },
  {
   "cell_type": "code",
   "execution_count": null,
   "metadata": {
    "ExecuteTime": {
     "end_time": "2021-05-14T22:26:01.303641Z",
     "start_time": "2021-05-14T22:26:01.280703Z"
    }
   },
   "outputs": [],
   "source": [
    "# Load the geo shapes from the json file.\n",
    "district_geo_shapes = load_cph_district_geoshapes()"
   ]
  },
  {
   "cell_type": "markdown",
   "metadata": {},
   "source": [
    "## Get data about the average income"
   ]
  },
  {
   "cell_type": "markdown",
   "metadata": {},
   "source": [
    "Let's see the average income for men and women and add a column where we can see the difference."
   ]
  },
  {
   "cell_type": "code",
   "execution_count": null,
   "metadata": {
    "ExecuteTime": {
     "end_time": "2021-05-14T22:26:01.368992Z",
     "start_time": "2021-05-14T22:26:01.305643Z"
    },
    "scrolled": false
   },
   "outputs": [],
   "source": [
    "# Get the data about the average income.\n",
    "df_income = (\n",
    "    df_superset.loc[:, ['Year', 'District', 'Average income (kr.)']]\n",
    ")\n",
    "\n",
    "# Add information about the difference of income between sexes.\n",
    "df_income['Difference between men and women'] =  (\n",
    "    df_income[('Average income (kr.)', 'Men')]\n",
    "    - df_income[('Average income (kr.)', 'Women')]\n",
    ")\n",
    "\n",
    "# Flatten the multiindex of the columns.\n",
    "df_income = flatten_multiindex(df_income)\n",
    "       \n",
    "# Show the result.\n",
    "display(flatten_multiindex(df_income))"
   ]
  },
  {
   "cell_type": "markdown",
   "metadata": {},
   "source": [
    "## Show geoplot"
   ]
  },
  {
   "cell_type": "markdown",
   "metadata": {},
   "source": [
    "Now let's show how the difference in the average income between the sexes has developed over time in different districts of Copenhagen:"
   ]
  },
  {
   "cell_type": "code",
   "execution_count": null,
   "metadata": {
    "ExecuteTime": {
     "end_time": "2021-05-14T22:26:07.389918Z",
     "start_time": "2021-05-14T22:26:01.373971Z"
    },
    "scrolled": false
   },
   "outputs": [],
   "source": [
    "show_cph_geoplot(\n",
    "    df_income,\n",
    "    locations ='District',\n",
    "    values = 'Difference between men and women',\n",
    "    animation_frame='Year',\n",
    "    label='',\n",
    "    title='Difference in income between men and women [kr]',\n",
    "    caption=''\n",
    ")"
   ]
  },
  {
   "cell_type": "markdown",
   "metadata": {},
   "source": [
    "Interestingly, we can see that the difference is biggest in the central Copenhagen and Østerbro, i.e. the districts with the highest income in Copenhagen. To me, this is not the result that I have expected and it would be interesting to investigate this observation a bit deeper."
   ]
  },
  {
   "cell_type": "markdown",
   "metadata": {},
   "source": [
    "# Life span\n",
    "<p style=\"border:2px solid black\"> </p>"
   ]
  },
  {
   "cell_type": "markdown",
   "metadata": {},
   "source": [
    "No analysis yet available."
   ]
  },
  {
   "cell_type": "markdown",
   "metadata": {},
   "source": [
    "# Population movement data\n",
    "<p style=\"border:2px solid black\"> </p>"
   ]
  },
  {
   "cell_type": "markdown",
   "metadata": {},
   "source": [
    "No analysis yet available."
   ]
  },
  {
   "cell_type": "markdown",
   "metadata": {},
   "source": [
    "# Dwellings\n",
    "<p style=\"border:2px solid black\"> </p>"
   ]
  },
  {
   "cell_type": "markdown",
   "metadata": {},
   "source": [
    "No analysis yet available."
   ]
  }
 ],
 "metadata": {
  "hide_input": false,
  "kernelspec": {
   "display_name": "PyCharm (Exercises)",
   "language": "python",
   "name": "pycharm-f0629d26"
  },
  "language_info": {
   "codemirror_mode": {
    "name": "ipython",
    "version": 3
   },
   "file_extension": ".py",
   "mimetype": "text/x-python",
   "name": "python",
   "nbconvert_exporter": "python",
   "pygments_lexer": "ipython3",
   "version": "3.8.5"
  },
  "toc": {
   "base_numbering": "1",
   "nav_menu": {},
   "number_sections": true,
   "sideBar": true,
   "skip_h1_title": false,
   "title_cell": "Table of Contents",
   "title_sidebar": "Contents",
   "toc_cell": true,
   "toc_position": {
    "height": "calc(100% - 180px)",
    "left": "10px",
    "top": "150px",
    "width": "443.938px"
   },
   "toc_section_display": true,
   "toc_window_display": true
  }
 },
 "nbformat": 4,
 "nbformat_minor": 1
}
