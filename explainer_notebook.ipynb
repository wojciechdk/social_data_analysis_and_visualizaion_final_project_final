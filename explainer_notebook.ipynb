{
 "cells": [
  {
   "cell_type": "markdown",
   "metadata": {},
   "source": [
    "<p style=\"border:2px solid black\"> </p>\n",
    "<span style=\"font-family:Lucida Bright;\">\n",
    "<p style=\"margin-bottom:1cm\"></p>\n",
    "<center>\n",
    "<font size=\"7\"><b>Social Data Analysis and</b></font>\n",
    "<p style=\"margin-bottom:0.3cm\"></p>\n",
    "<font size=\"7\"><b>Visualization</b></font>\n",
    "<p style=\"margin-bottom:1cm\"></p>\n",
    "<font size=\"3\"><b>Final Project</b></font>\n",
    "<p style=\"margin-bottom:1cm\"></p>\n",
    "<font size=\"6\"><b>Demographics of Copenhagen</b></font>\n",
    "<p style=\"margin-bottom:0.8cm\"></p>\n",
    "<font size=\"3\"><b>Wojciech Mazurkiewicz, DTU, 14 May 2021</b></font>\n",
    "<p style=\"margin-bottom:1.5cm\"></p>\n",
    "<font size=\"6\"><b>Explainer Notebook</b></font>\n",
    "<br>\n",
    "<font size=\"3\"><b></b></font>\n",
    "</center>\n",
    "<p style=\"margin-bottom:0.7cm\"></p>\n",
    "<p style=\"border:2px solid black\"> </p>"
   ]
  },
  {
   "cell_type": "markdown",
   "metadata": {
    "toc": true
   },
   "source": [
    "<h1>Table of Contents<span class=\"tocSkip\"></span></h1>\n",
    "<div class=\"toc\"><ul class=\"toc-item\"><li><span><a href=\"#How-to-read-this-notebook\" data-toc-modified-id=\"How-to-read-this-notebook-1\"><span class=\"toc-item-num\">1&nbsp;&nbsp;</span>How to read this notebook</a></span></li><li><span><a href=\"#Motivation\" data-toc-modified-id=\"Motivation-2\"><span class=\"toc-item-num\">2&nbsp;&nbsp;</span>Motivation</a></span><ul class=\"toc-item\"><li><span><a href=\"#The-data\" data-toc-modified-id=\"The-data-2.1\"><span class=\"toc-item-num\">2.1&nbsp;&nbsp;</span>The data</a></span></li><li><span><a href=\"#The-structure-of-documentation\" data-toc-modified-id=\"The-structure-of-documentation-2.2\"><span class=\"toc-item-num\">2.2&nbsp;&nbsp;</span>The structure of documentation</a></span></li><li><span><a href=\"#The-approach\" data-toc-modified-id=\"The-approach-2.3\"><span class=\"toc-item-num\">2.3&nbsp;&nbsp;</span>The approach</a></span></li></ul></li><li><span><a href=\"#Initialization\" data-toc-modified-id=\"Initialization-3\"><span class=\"toc-item-num\">3&nbsp;&nbsp;</span>Initialization</a></span></li><li><span><a href=\"#Basic-stats\" data-toc-modified-id=\"Basic-stats-4\"><span class=\"toc-item-num\">4&nbsp;&nbsp;</span>Basic stats</a></span><ul class=\"toc-item\"><li><span><a href=\"#The-demographical-data\" data-toc-modified-id=\"The-demographical-data-4.1\"><span class=\"toc-item-num\">4.1&nbsp;&nbsp;</span>The demographical data</a></span></li><li><span><a href=\"#The-geographical-data\" data-toc-modified-id=\"The-geographical-data-4.2\"><span class=\"toc-item-num\">4.2&nbsp;&nbsp;</span>The geographical data</a></span></li><li><span><a href=\"#Discussion\" data-toc-modified-id=\"Discussion-4.3\"><span class=\"toc-item-num\">4.3&nbsp;&nbsp;</span>Discussion</a></span><ul class=\"toc-item\"><li><span><a href=\"#Loading-and-cleaning-of-the-data\" data-toc-modified-id=\"Loading-and-cleaning-of-the-data-4.3.1\"><span class=\"toc-item-num\">4.3.1&nbsp;&nbsp;</span>Loading and cleaning of the data</a></span></li><li><span><a href=\"#Combining-the-data\" data-toc-modified-id=\"Combining-the-data-4.3.2\"><span class=\"toc-item-num\">4.3.2&nbsp;&nbsp;</span>Combining the data</a></span></li></ul></li></ul></li><li><span><a href=\"#Data-Analysis\" data-toc-modified-id=\"Data-Analysis-5\"><span class=\"toc-item-num\">5&nbsp;&nbsp;</span>Data Analysis</a></span></li><li><span><a href=\"#Genre\" data-toc-modified-id=\"Genre-6\"><span class=\"toc-item-num\">6&nbsp;&nbsp;</span>Genre</a></span><ul class=\"toc-item\"><li><span><a href=\"#Which-genre-of-data-story-did-you-use?\" data-toc-modified-id=\"Which-genre-of-data-story-did-you-use?-6.1\"><span class=\"toc-item-num\">6.1&nbsp;&nbsp;</span>Which genre of data story did you use?</a></span></li><li><span><a href=\"#Visual-Narrative\" data-toc-modified-id=\"Visual-Narrative-6.2\"><span class=\"toc-item-num\">6.2&nbsp;&nbsp;</span>Visual Narrative</a></span></li><li><span><a href=\"#Narrative-structure\" data-toc-modified-id=\"Narrative-structure-6.3\"><span class=\"toc-item-num\">6.3&nbsp;&nbsp;</span>Narrative structure</a></span></li></ul></li><li><span><a href=\"#Visualizations\" data-toc-modified-id=\"Visualizations-7\"><span class=\"toc-item-num\">7&nbsp;&nbsp;</span>Visualizations</a></span><ul class=\"toc-item\"><li><span><a href=\"#Barplots\" data-toc-modified-id=\"Barplots-7.1\"><span class=\"toc-item-num\">7.1&nbsp;&nbsp;</span>Barplots</a></span></li><li><span><a href=\"#Choropleth-maps\" data-toc-modified-id=\"Choropleth-maps-7.2\"><span class=\"toc-item-num\">7.2&nbsp;&nbsp;</span>Choropleth maps</a></span></li></ul></li><li><span><a href=\"#Discussion\" data-toc-modified-id=\"Discussion-8\"><span class=\"toc-item-num\">8&nbsp;&nbsp;</span>Discussion</a></span></li><li><span><a href=\"#Contributions\" data-toc-modified-id=\"Contributions-9\"><span class=\"toc-item-num\">9&nbsp;&nbsp;</span>Contributions</a></span></li><li><span><a href=\"#References\" data-toc-modified-id=\"References-10\"><span class=\"toc-item-num\">10&nbsp;&nbsp;</span>References</a></span></li></ul></div>"
   ]
  },
  {
   "cell_type": "markdown",
   "metadata": {},
   "source": [
    "# How to read this notebook\n",
    "\n",
    "<p style=\"border:2px solid black\"> </p>"
   ]
  },
  {
   "cell_type": "markdown",
   "metadata": {},
   "source": [
    "Please note that the pre-rendered outputs will first display properly when the notebook is __trusted__.\n",
    "\n",
    "If you are viewing the HTML-version of the notebook and would like to download the .ipynm file, you can do it [here](https://social-data-analysis-and-visualization-final-project.s3.eu-central-1.amazonaws.com/explainer_notebook.ipynb)."
   ]
  },
  {
   "cell_type": "markdown",
   "metadata": {},
   "source": [
    "# Motivation\n",
    "\n",
    "<p style=\"border:2px solid black\"> </p>"
   ]
  },
  {
   "cell_type": "markdown",
   "metadata": {},
   "source": [
    "The work in this project is inspired by an article by [Martin Henriksen](https://da.wikipedia.org/wiki/Martin_Henriksen) [3], in which he warns the Danish population that it is being [replaced](https://ditoverblik.dk/martin-henriksen-advarer-befolkningen-udskiftes) [2]. \n",
    "\n",
    "Now, the fact that there are roughly as many interpretations of what it means to be Danish as there are people in Denmark leaves plenty of room for joyful discussions, which I'm sure we will have the pleasure to witness \n",
    "both on television and social media for many years to come. I, however, have already reached the [final truth](https://youtu.be/Oh1HI-ag7HA) [4] in this topic and have therefore little incentive to further pursue this direction.\n",
    "\n",
    "I would, nonetheless, like to better understand the data that lead to interpretations like that of mr. Henriksen, and to give the reader an insight into the reality behind the numbers and how the data be used to reach different conclusions. I have therefore reached out to Københavns Kommune to gain better access to their statistical databases. After a couple of phone calls with a kind gentleman called Jesper, I have succeeded in persuading the municipality to raise the limit of how much data could be withdrawn at once from 10,000 to 50,000 cells, which has made it possible to withdraw enough information for a more detailed analysis of how some of the demographical quantities in Copenhagen have developed over time.\n",
    "\n",
    "## The data"
   ]
  },
  {
   "cell_type": "markdown",
   "metadata": {},
   "source": [
    "I have aimed to focus only on data which would allow to trace the change of different demographical quantities of Copenhagen over time. These quantities include:\n",
    "\n",
    "1. year and district vs population by citizenship (Danes vs. western and non-western non-Danes)\n",
    "1. year and district vs population by marital status\n",
    "1. year and district vs number of families by family type and number of children\n",
    "1. year and district vs average income\n",
    "1. year and district vs average life span\n",
    "1. year and district vs population movements (immigration, births, deaths, etc.)  \n",
    "\n",
    "However, out of sheer interest, I have also included the information about the entire population of Copenhagen by the country of origin."
   ]
  },
  {
   "cell_type": "markdown",
   "metadata": {},
   "source": [
    "## The structure of documentation"
   ]
  },
  {
   "cell_type": "markdown",
   "metadata": {},
   "source": [
    "Due to the large amount of data processing and documentation, I have decided to present my work in a series of notebooks rather than one:\n",
    "\n",
    "1. the notebook [Initialization](https://social-data-analysis-and-visualization-final-project.s3.eu-central-1.amazonaws.com/initialization.html) contains all the code necessary to properly run all other notebook, i.e.:\n",
    "    - imports\n",
    "    - configuration of the packages\n",
    "    - specification of paths\n",
    "    - definitions of all functions used in this project<br/><br/>\n",
    "\n",
    "1. the notebook [Loading and Cleaning of Data](https://social-data-analysis-and-visualization-final-project.s3.eu-central-1.amazonaws.com/data_loading_and_cleaning.html) describes the process of loading and cleaning of the data.<br/><br/>\n",
    "\n",
    "1. the notebook [Combining the Data](https://social-data-analysis-and-visualization-final-project.s3.eu-central-1.amazonaws.com/combining_data.html) describes the process of creation of a superset of data containing the combination all of the demographical quantities mentioned above organized by district and year.<br/><br/>\n",
    "\n",
    "1. the notebook [Data Analysis and Visualization](https://social-data-analysis-and-visualization-final-project.s3.eu-central-1.amazonaws.com/data_visualization.html) contains the data analysis the visualizations.\n",
    "\n",
    "The website where the analysis and visualizations are turned into a story, can be accessed [here](https://social-data-analysis-and-visualization-final-project.s3.eu-central-1.amazonaws.com/website_main.html). If you are interested in dowloading the entire project, you can access it on [GitHub](https://github.com/wojciechdk/social_data_analysis_and_visualizaion_final_project_final)."
   ]
  },
  {
   "cell_type": "markdown",
   "metadata": {},
   "source": [
    "## The approach"
   ]
  },
  {
   "cell_type": "markdown",
   "metadata": {},
   "source": [
    "When I started gathering the data, I didn't have a specific goal in mind regarding what I wanted to investigate and present to the reader. Rather, I wanted the ideas to form while I was uncovering the data. To me, that's the beauty of data science - it's and endless journey where each turn you take opens up new ideas for where to go next. So, instead of choosing a particular message to pass on to the reader, I would like to invite them to join me on this journey, and use my data and findings as a parting point to carry out their own study of whichever aspect they find interesting.\n",
    "\n",
    "As the deadline for the project was approaching, it was clear to me that it will not be possible to both clean and process the data, analyze it, write a great story, turn it into a website, and provide technical documentation that would live up to a standard that I would like to keep before May 14<sup>th</sup>. Therefore, I have approached this project as follows:\n",
    "\n",
    "1. As a general philosophy, I have decided that I would rather do fewer things well than more things sloppily, not least because I find the data very interesting and would like to continue to work with it in the future. Also, as a sole member of my group, I have already shown through assignments 1 and 2 that I can apply the material we have learned in this course, so I see no reason to drag you through a safari of histograms, pairplots, confusion matrices, heatmaps, and linear regression plots just to show you I can create them.<br/><br/>\n",
    "\n",
    "1. Because I consider good organization of data a foundation for all the other work, I have decided to put great emphasis on, cleaning, processing, and organizing the data, as well as documentation thereof. First when the data was ready and the whole process of its processing documented, I would continue with the rest of the project.<br/><br/>\n",
    "\n",
    "1. Because I have no prior experience in webpage design, I have decided to design the webpage as a Jupyter Notebook, as learning to create webpages from scratch would, however interesting, simply take too much time from creating their content, which I would rather focus on in this course.<br/><br/>\n",
    "\n",
    "1. For the webpage, I have decided to start with the analysis of the data describing the number of foreigners in Copenhagen over time, and later relate and compare this to other demographical quantities, such as income, income inequality, average lifespan, number of children, marital status, and so on. However, at May 14 th, I was still working with the immigration data, and decided to stick to this subject alone.<br/><br/>\n",
    "\n",
    "1. For the data analysis, I have decided to start writing the story for the webpage, let this story inspire the choice of the analysis to perform, and let its results inspire the continuation of the story. Therefore, in the data analysis-section, you will find (almost) solely analysis which is mentioned on the webpage. \n",
    "\n",
    "And now, let's get on with it, I hope you enjoy the ride."
   ]
  },
  {
   "cell_type": "markdown",
   "metadata": {},
   "source": [
    "# Initialization\n",
    "\n",
    "<p style=\"border:2px solid black\"> </p>"
   ]
  },
  {
   "cell_type": "markdown",
   "metadata": {},
   "source": [
    "The code in this notebook can only run correctly after running the initialization procedure defined in the notebook [Initialization](https://social-data-analysis-and-visualization-final-project.s3.eu-central-1.amazonaws.com/initialization.html), which contains the imports, configuration, and function definitions. Let's run it now:"
   ]
  },
  {
   "cell_type": "code",
   "execution_count": null,
   "metadata": {
    "ExecuteTime": {
     "end_time": "2021-05-14T14:11:30.962657Z",
     "start_time": "2021-05-14T14:11:30.790599Z"
    }
   },
   "outputs": [],
   "source": [
    "%run ./initialization.ipynb"
   ]
  },
  {
   "cell_type": "markdown",
   "metadata": {},
   "source": [
    "# Basic stats\n",
    "\n",
    "<p style=\"border:2px solid black\"> </p>"
   ]
  },
  {
   "cell_type": "markdown",
   "metadata": {},
   "source": [
    "The data used used this project has been obtained from https://kk.statistikbank.dk [5]. It regards solely the region of Copenhagen and consists of 12.4 MB of demographical data and 2.6 MB of geographical data."
   ]
  },
  {
   "cell_type": "markdown",
   "metadata": {},
   "source": [
    "## The demographical data"
   ]
  },
  {
   "cell_type": "markdown",
   "metadata": {},
   "source": [
    "The demographical data consists of:\n",
    "\n",
    "- the datasets that **do** contain district information:\n",
    "    - year and district vs population by citizenship (Danes vs. western and non-western non-Danes)\n",
    "    - year and district vs population by marital status\n",
    "    - year and district vs number of families  type and number of children\n",
    "    - year and district vs average income\n",
    "    - year and district vs average life span\n",
    "    - year and district population movement (immigration, births, deaths, etc.)\n",
    "    \n",
    " \n",
    "- the datasets that do **not** contain district information:\n",
    "    - year vs population country of origin"
   ]
  },
  {
   "cell_type": "markdown",
   "metadata": {},
   "source": [
    "## The geographical data"
   ]
  },
  {
   "cell_type": "markdown",
   "metadata": {},
   "source": [
    "The geographical data consists of geoshapes containing districts and polling areas of Copenhagen in geojson format."
   ]
  },
  {
   "cell_type": "markdown",
   "metadata": {},
   "source": [
    "## Discussion"
   ]
  },
  {
   "cell_type": "markdown",
   "metadata": {},
   "source": [
    "### Loading and cleaning of the data"
   ]
  },
  {
   "cell_type": "markdown",
   "metadata": {},
   "source": [
    "The process of loading and cleaning of the data is described in the notebook [Data Loading and Cleaning](https://social-data-analysis-and-visualization-final-project.s3.eu-central-1.amazonaws.com/data_loading_and_cleaning.html). As the web interface which I have used to withdraw the data only permits a withdrawal of 50,000 cells at a time, it was in many cases necessary to split the data into multiple smaller tables, and reassemble them back to their original shape. Also, the format and the resolution of the data representing the same quantities, such as age and time, was not always consistent. Therefore, the process concentrates on restoring the split datasets and standardizing the quantities across all datasets, and organizing them in such a way that the data regarding time (year and quarter) and location (district) are represented in dedicated columns.\n",
    "\n",
    "The clean data can be loaded by invoking the class `CphData`, which contains all the clean datasets in the form of Pandas dataframes. Let's load it:"
   ]
  },
  {
   "cell_type": "code",
   "execution_count": null,
   "metadata": {
    "ExecuteTime": {
     "end_time": "2021-05-14T14:11:37.052815Z",
     "start_time": "2021-05-14T14:11:36.829382Z"
    },
    "scrolled": true
   },
   "outputs": [],
   "source": [
    "# Load the clean data for Copenhagen.\n",
    "cph_data = CphData()"
   ]
  },
  {
   "cell_type": "markdown",
   "metadata": {},
   "source": [
    "The object has a couple of methods that simplify its use. Let's view them:"
   ]
  },
  {
   "cell_type": "code",
   "execution_count": null,
   "metadata": {
    "ExecuteTime": {
     "end_time": "2021-05-14T14:11:38.558165Z",
     "start_time": "2021-05-14T14:11:38.538225Z"
    },
    "scrolled": false
   },
   "outputs": [],
   "source": [
    "# Show the methods of the object cph_data.\n",
    "cph_data.show_methods()"
   ]
  },
  {
   "cell_type": "markdown",
   "metadata": {},
   "source": [
    "Now, let's view the available dataframes:"
   ]
  },
  {
   "cell_type": "code",
   "execution_count": null,
   "metadata": {
    "ExecuteTime": {
     "end_time": "2021-05-14T14:12:55.833357Z",
     "start_time": "2021-05-14T14:12:55.815406Z"
    }
   },
   "outputs": [],
   "source": [
    "# Show the available dataframes.\n",
    "printmd('The available dataframes in the object `cph_data` are:')\n",
    "display(pd.DataFrame(get_obj_attributes(cph_data).keys(),\n",
    "                     columns=['Attribute names']))"
   ]
  },
  {
   "cell_type": "markdown",
   "metadata": {},
   "source": [
    "Let's view the dataframe: ***citizenship***:"
   ]
  },
  {
   "cell_type": "code",
   "execution_count": null,
   "metadata": {
    "ExecuteTime": {
     "end_time": "2021-05-14T14:13:33.102697Z",
     "start_time": "2021-05-14T14:13:33.070785Z"
    }
   },
   "outputs": [],
   "source": [
    "# Show the citizenship \n",
    "display(cph_data.citizenship)"
   ]
  },
  {
   "cell_type": "markdown",
   "metadata": {},
   "source": [
    "### Combining the data"
   ]
  },
  {
   "cell_type": "markdown",
   "metadata": {},
   "source": [
    "In this study I would like to investigate how different demographic measures develop over time in different districts of Copenhagen. If time allows, I would also like to create a predictive model for some the quantities of interest. To accomplish that, it would be beneficial to create a super-dataset containing combined information from all the datasets at our disposal, so that each row of the resulting set would represent the values of different quantities in a given district at a certain point in time. The process of creation of such a dataset is described in the notebook [Combining the Data](https://social-data-analysis-and-visualization-final-project.s3.eu-central-1.amazonaws.com/combining_data.html).\n",
    "\n",
    "Let's view the resulting superset, which has been saved as a pickled Pandas dataframe:"
   ]
  },
  {
   "cell_type": "code",
   "execution_count": null,
   "metadata": {
    "ExecuteTime": {
     "end_time": "2021-05-14T14:16:00.756044Z",
     "start_time": "2021-05-14T14:16:00.493716Z"
    },
    "scrolled": false
   },
   "outputs": [],
   "source": [
    "# Load the superset.\n",
    "df_superset = pd.read_pickle(path_data_clean_root / 'cph_clean_superset.pkl')\n",
    "\n",
    "# Show the superset.\n",
    "display(df_superset)"
   ]
  },
  {
   "cell_type": "markdown",
   "metadata": {},
   "source": [
    "As intended, each row in the superset represents various demographic quantities for Copehagen for a unique combination of a year and district."
   ]
  },
  {
   "cell_type": "markdown",
   "metadata": {},
   "source": [
    "# Data Analysis\n",
    "\n",
    "<p style=\"border:2px solid black\"> </p>"
   ]
  },
  {
   "cell_type": "markdown",
   "metadata": {},
   "source": [
    "As mentioned in the Motivation section of the [Explainer Notebook](https://social-data-analysis-and-visualization-final-project.s3.eu-central-1.amazonaws.com/explainer_notebook.html), the time constraints made it difficult for me to create analyses of all the datasets and quantities I have gathered for this project, and I have therefore taken the approach of letting my webpage story dictate the choice of the analysis to perform, and let results of this analysis inspire the continuation of the story. Therefore, in this section, you will find (almost) solely the analyses of the quantities mentioned on the [webpage](https://social-data-analysis-and-visualization-final-project.s3.eu-central-1.amazonaws.com/website_main.html).\n",
    "\n",
    "The data analysis, including visualizations, is described in the notebook [Data Analysis and Visualization](https://social-data-analysis-and-visualization-final-project.s3.eu-central-1.amazonaws.com/data_visualization.html)."
   ]
  },
  {
   "cell_type": "markdown",
   "metadata": {},
   "source": [
    "# Genre\n",
    "\n",
    "<p style=\"border:2px solid black\"> </p>"
   ]
  },
  {
   "cell_type": "markdown",
   "metadata": {},
   "source": [
    "## Which genre of data story did you use?"
   ]
  },
  {
   "cell_type": "markdown",
   "metadata": {},
   "source": [
    "I have decided to tell my story in the Magazine / Slide Show style, primarily because I wanted to use the author-driven approach where I could control the order in which to present the story and my findings. However, my limited abilities with respect to webpage creation would also not have permitted me to create a different type of a story in the time at hand."
   ]
  },
  {
   "cell_type": "markdown",
   "metadata": {},
   "source": [
    "## Visual Narrative "
   ]
  },
  {
   "cell_type": "markdown",
   "metadata": {},
   "source": [
    "Despite the obvious limitations arising from using the Jupyter Notebook as a webpage design tool, I have aimed to make the my website as interactive and user-friendly as possible. For the visual structuring, I have used the Contents menu on the left side of the screen to allow the user to see his position in the website and easily navigate between the chapters. This corresponds to the feature *Progress Bar / Timebar* from [1]. I have also included a table of contents in the beginning of the document to give the user a quick overview of the structure of the story and allow him to easily access all sections.\n",
    "\n",
    "The sections have been numbered to ensure that the user at no point is confused about which supersection a given passage belongs to. The transitions between main sections are clearly marked by an underlined title written in a font that is significantly bigger than the rest of the text.\n",
    "\n",
    "To highlight important passages, I have almost solely used font style alterations, such as the use of *italics*, and **bold** fonts. "
   ]
  },
  {
   "cell_type": "markdown",
   "metadata": {},
   "source": [
    "## Narrative structure"
   ]
  },
  {
   "cell_type": "markdown",
   "metadata": {},
   "source": [
    "I like linearly ordered stories, and thus have created mine as such. I was aiming for a structure where a passage leads to an analysis, which in turn leads to a question, which then leads to the next passage, and so on. This way I aim to guide the user from an general question and deeper and deeper into the details.\n",
    "\n",
    "The narrative is divided into sections and subsections, each initiated by an introduction linking it to the previous section and ended with a passage foreshadowing the next one. \n",
    "\n",
    "The story is entirely author-driven, but the user can in most cases interact with elements of analysis by hovering over graphs, playing and stopping animations. I also make frequent use of links to other documents that are relevant to the the story at hand, and the user has always a navigation pane at their disposal on the left side of the screen."
   ]
  },
  {
   "cell_type": "markdown",
   "metadata": {},
   "source": [
    "# Visualizations\n",
    "\n",
    "<p style=\"border:2px solid black\"> </p>"
   ]
  },
  {
   "cell_type": "markdown",
   "metadata": {},
   "source": [
    "In my story I only use two types of visualizations: ***barplots***, which in most cases are interactive, and interactive, animated ***choropleth maps***. In the technical documentation, I make frequent use of tables to visualize the content of the  datasets.\n",
    "\n",
    "Apart from the examples brought here, all the visualizations are, together with the data analysis, described in the notebook [Data Analysis and Visualization](https://social-data-analysis-and-visualization-final-project.s3.eu-central-1.amazonaws.com/data_visualization.html)."
   ]
  },
  {
   "cell_type": "markdown",
   "metadata": {},
   "source": [
    "## Barplots"
   ]
  },
  {
   "cell_type": "markdown",
   "metadata": {},
   "source": [
    "Barplots work very well in my story because of their ability to visualize *proportions* between different quantities. The best example of this is when I wanted to illustrate the proportions of the Danish population in Copenhagen to the populations of other countries of origin, which resulted in following graph:"
   ]
  },
  {
   "cell_type": "code",
   "execution_count": null,
   "metadata": {
    "ExecuteTime": {
     "end_time": "2021-05-14T16:31:10.846739Z",
     "start_time": "2021-05-14T16:31:07.930371Z"
    },
    "hide_input": false,
    "scrolled": false
   },
   "outputs": [],
   "source": [
    "show_top_10_countries_of_origin_all_years(\n",
    "    ('Figure: 10 most represented countries of origin in Copenhagen. '\n",
    "     'In 2020 the most represented countries are: Denmark, Pakistan, Turkey, '\n",
    "     'Iraq, Germany, Poland, Morocco, Sweden,\\nand Lebanon'),\n",
    "    x=.12,\n",
    "    y=0.06)"
   ]
  },
  {
   "cell_type": "markdown",
   "metadata": {},
   "source": [
    "So, when Martin Henriksen announces that the end is near and backs it up with data classifying 23.7% of citizens of Copenhagen as foreigners slowly wiping out the Danish nation, it is great to be able to graphically illustrate the reality behind those numbers. Here, it is very easy to see just how much the Danes outnumber any other nationality in Copenhagen, and I could imagine that he would have a much harder time to incite fear of extinction using this vizualization."
   ]
  },
  {
   "cell_type": "markdown",
   "metadata": {},
   "source": [
    "## Choropleth maps"
   ]
  },
  {
   "cell_type": "markdown",
   "metadata": {},
   "source": [
    "The animated choropleth maps are a great tool to show a development of a quantity in a given geographical area. The drawback is that they do not do a great job at showing proportions: when comparing two areas where one is red and the other one is blue, one can with a help of the colorbar easily identify the one where a given quantity is higher, but it is very cumbersome to get an idea about by how much. \n",
    "\n",
    "Colors are also easier to manipulate with than graphs. Consider the following example, which also included on the website: here, we can follow the evolution of the fraction of the non-Danish population in the districts of Copenhagen from 1980 to 2020:"
   ]
  },
  {
   "cell_type": "code",
   "execution_count": null,
   "metadata": {
    "ExecuteTime": {
     "end_time": "2021-05-14T17:36:45.694892Z",
     "start_time": "2021-05-14T17:36:28.162450Z"
    }
   },
   "outputs": [],
   "source": [
    "show_pct_non_danes_over_time(\n",
    "    group='all',\n",
    "    caption='Figure: Percentatge of non-Danes vs district vs time. The color range has been set to run from 0 to 25 %',\n",
    "    caption_y=-0.05,\n",
    "    margin=dict(r=0,\n",
    "                t=30,\n",
    "                l=0,\n",
    "                b=0),\n",
    "    range_color=(0, 25)\n",
    ")"
   ]
  },
  {
   "cell_type": "markdown",
   "metadata": {},
   "source": [
    "To me, the development looks very dramatic when so many districts turn from blue to orange, and some even go into dark red. But note that we have set the color range to go from 0 to 25 percent. Now, let's see how the same data would look if we set the range to cover the full spectrum from 100% Danes to 100% foreigners:"
   ]
  },
  {
   "cell_type": "code",
   "execution_count": null,
   "metadata": {
    "ExecuteTime": {
     "end_time": "2021-05-14T17:30:30.612953Z",
     "start_time": "2021-05-14T17:30:16.168748Z"
    }
   },
   "outputs": [],
   "source": [
    "show_pct_non_danes_over_time(\n",
    "    group='all',\n",
    "    caption='Figure: Percentatge of non-Danes vs district vs time. The color range has been set to run from 0 to 100 %',\n",
    "    caption_y=-0.05,\n",
    "    margin=dict(r=0,\n",
    "                t=30,\n",
    "                l=0,\n",
    "                b=0),\n",
    "    range_color=(0, 100)\n",
    ")"
   ]
  },
  {
   "cell_type": "markdown",
   "metadata": {},
   "source": [
    "Now, this to me looks much less terrifying. And so, it is easy to adjust color to match the reaction one is aiming for."
   ]
  },
  {
   "cell_type": "markdown",
   "metadata": {},
   "source": [
    "# Discussion\n",
    "\n",
    "<p style=\"border:2px solid black\"> </p>"
   ]
  },
  {
   "cell_type": "markdown",
   "metadata": {},
   "source": [
    "This project has turned out huge when measured with respect to this course's ECTS, and it became apparent to me relatively quickly that I will not be able process and analyze all the data which I have gathered before the May 14th regardless of how much time I would allocate to the task, let alone in the 6 working days being the time norm. In fact, now, after more than 20 full working days, I still feels like I'm just getting started.\n",
    "\n",
    "My strategy was to focus on getting solid, high quality data, and only proceed with the rest of the project when that part was in place. This approach would give me an opportunity to work on an [important part](https://www.datanami.com/2020/07/06/data-prep-still-dominates-data-scientists-time-survey-finds/) [6] of data science which we have not had many opportunities to work with throughout the semester, and, at the same time, lay a good foundation for future work.\n",
    "\n",
    "I have therefore invested a lot of time into gathering data, which had to be done by hand due to lack of an API, and even more so into cleaning and processing. The result is a dataset which I am very happy with, and would like to continue to work on. I am also very satisfied with the technical documentation, which makes it possible to trace every step taken in the process of cleaning, organizing, processing, and analyzing the data.\n",
    "\n",
    "In this project, only a little part of the gathered data has been analyzed, but even that has led to some interesting insights about the composition of the population of Copenhagen. I am especially happy about being able to show that when politicians like mr. Henriksen preach about the dangers of foreigners constituting a given percentage of the population in a given area, they tend to present the foreigners as one solid group determined to do you no good, whereas the reality is that the foreign group can consist of hundreds of different nationalities with very little in common. But that being said, there is still so much more to be done, e.g. I haven't even started investigating the relationships between different quantities, which could lead to very interesting insights.\n",
    "\n",
    "As mentioned before, I have chosen not make this project a tour of all the tools and techniques which we have worked with using the semester, as I have already demonstrated my understanding of them in the two assignments over during the semester, and using them for no other reason than to show them to my teachers did not make much sense to me. For that reason, my project is heavily oriented towards data processing, and less towards the analysis. I do, however, intend to pursue the analysis part when this semester ends, and I hope some of you can also find the data I have gathered about Copenhagen for your own research."
   ]
  },
  {
   "cell_type": "markdown",
   "metadata": {},
   "source": [
    "# Contributions\n",
    "\n",
    "<p style=\"border:2px solid black\"> </p>\n",
    "\n",
    "All work done by Wojciech Mazurkiewicz (s001284).\n",
    "\n",
    "\n"
   ]
  },
  {
   "cell_type": "markdown",
   "metadata": {},
   "source": [
    "# References\n",
    "\n",
    "<p style=\"border:2px solid black\"> </p>"
   ]
  },
  {
   "cell_type": "markdown",
   "metadata": {},
   "source": [
    "[1] Segel and Heer: Narrative Visualization: Telling Stories with Data  \n",
    "[2] https://ditoverblik.dk/martin-henriksen-advarer-befolkningen-udskiftes   \n",
    "[3] https://da.wikipedia.org/wiki/Martin_Henriksen   \n",
    "[4] https://youtu.be/Oh1HI-ag7HA  \n",
    "[5] https://kk.statistikbank.dk  \n",
    "[6] https://www.datanami.com/2020/07/06/data-prep-still-dominates-data-scientists-time-survey-finds/s"
   ]
  }
 ],
 "metadata": {
  "hide_input": false,
  "kernelspec": {
   "display_name": "PyCharm (Exercises)",
   "language": "python",
   "name": "pycharm-f0629d26"
  },
  "language_info": {
   "codemirror_mode": {
    "name": "ipython",
    "version": 3
   },
   "file_extension": ".py",
   "mimetype": "text/x-python",
   "name": "python",
   "nbconvert_exporter": "python",
   "pygments_lexer": "ipython3",
   "version": "3.8.5"
  },
  "toc": {
   "base_numbering": "1",
   "nav_menu": {},
   "number_sections": true,
   "sideBar": true,
   "skip_h1_title": false,
   "title_cell": "Table of Contents",
   "title_sidebar": "Contents",
   "toc_cell": true,
   "toc_position": {
    "height": "424px",
    "left": "28px",
    "top": "66px",
    "width": "314px"
   },
   "toc_section_display": true,
   "toc_window_display": true
  }
 },
 "nbformat": 4,
 "nbformat_minor": 1
}
