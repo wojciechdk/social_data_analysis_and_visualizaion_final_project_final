{
 "cells": [
  {
   "cell_type": "code",
   "execution_count": null,
   "metadata": {
    "ExecuteTime": {
     "end_time": "2021-05-14T16:13:50.993498Z",
     "start_time": "2021-05-14T16:13:45.007892Z"
    },
    "hide_input": true
   },
   "outputs": [],
   "source": [
    "%run ./initialization.ipynb"
   ]
  },
  {
   "cell_type": "code",
   "execution_count": null,
   "metadata": {
    "ExecuteTime": {
     "end_time": "2021-05-14T16:13:51.057329Z",
     "start_time": "2021-05-14T16:13:50.996491Z"
    },
    "hide_input": true,
    "scrolled": true
   },
   "outputs": [],
   "source": [
    "%%javascript\n",
    "//hack to fix export\n",
    "require.config({\n",
    "  paths: {\n",
    "    d3: 'https://cdnjs.cloudflare.com/ajax/libs/d3/5.9.2/d3',\n",
    "    jquery: 'https://code.jquery.com/jquery-3.4.1.min',\n",
    "    plotly: 'https://cdn.plot.ly/plotly-latest.min'\n",
    "  },\n",
    "\n",
    "  shim: {\n",
    "    plotly: {\n",
    "      deps: ['d3', 'jquery'],\n",
    "      exports: 'plotly'\n",
    "    }\n",
    "  }\n",
    "});"
   ]
  },
  {
   "cell_type": "markdown",
   "metadata": {
    "hide_input": true
   },
   "source": [
    "<p style=\"border:2px solid black\"> </p>\n",
    "<span style=\"font-family:Lucida Bright;\">\n",
    "<p style=\"margin-bottom:1cm\"></p>\n",
    "<center>\n",
    "<font size=\"7\"><b>Social Data Analysis and</b></font>\n",
    "<p style=\"margin-bottom:0.3cm\"></p>\n",
    "<font size=\"7\"><b>Visualization</b></font>\n",
    "<p style=\"margin-bottom:1cm\"></p>\n",
    "<font size=\"3\"><b>Final Project</b></font>\n",
    "<p style=\"margin-bottom:1cm\"></p>\n",
    "<font size=\"6\"><b>Demographics of Copenhagen</b></font>\n",
    "<p style=\"margin-bottom:0.8cm\"></p>\n",
    "<font size=\"3\"><b>Wojciech Mazurkiewicz, DTU, 14 May 2021</b></font>\n",
    "<font size=\"3\"><b></b></font>\n",
    "</center>\n",
    "<p style=\"margin-bottom:0.7cm\"></p>\n",
    "<p style=\"border:2px solid black\"> </p>\n"
   ]
  },
  {
   "cell_type": "markdown",
   "metadata": {
    "toc": true
   },
   "source": [
    "<h1>Table of Contents<span class=\"tocSkip\"></span></h1>\n",
    "<div class=\"toc\"><ul class=\"toc-item\"><li><span><a href=\"#Introduction\" data-toc-modified-id=\"Introduction-1\"><span class=\"toc-item-num\">1&nbsp;&nbsp;</span>Introduction</a></span></li><li><span><a href=\"#The-population-is-being-replaced\" data-toc-modified-id=\"The-population-is-being-replaced-2\"><span class=\"toc-item-num\">2&nbsp;&nbsp;</span>The population is being replaced</a></span><ul class=\"toc-item\"><li><span><a href=\"#Danes-vs-non-Danes,-2009-2020\" data-toc-modified-id=\"Danes-vs-non-Danes,-2009-2020-2.1\"><span class=\"toc-item-num\">2.1&nbsp;&nbsp;</span>Danes vs non-Danes, 2009-2020</a></span></li><li><span><a href=\"#Top-10-countries-of-origin\" data-toc-modified-id=\"Top-10-countries-of-origin-2.2\"><span class=\"toc-item-num\">2.2&nbsp;&nbsp;</span>Top 10 countries of origin</a></span></li></ul></li><li><span><a href=\"#The-districts-succumb\" data-toc-modified-id=\"The-districts-succumb-3\"><span class=\"toc-item-num\">3&nbsp;&nbsp;</span>The districts succumb</a></span></li><li><span><a href=\"#Thank-you\" data-toc-modified-id=\"Thank-you-4\"><span class=\"toc-item-num\">4&nbsp;&nbsp;</span>Thank you</a></span></li></ul></div>"
   ]
  },
  {
   "cell_type": "markdown",
   "metadata": {},
   "source": [
    "# Introduction\n",
    "<p style=\"border:2px solid black\"> </p>"
   ]
  },
  {
   "cell_type": "markdown",
   "metadata": {
    "hide_input": true
   },
   "source": [
    "Welcome to the website for the project about the demographics of Copenhagen, where I would like you to join me on a journey through landscapes of numbers and tables.\n",
    "\n",
    "For all the technical details, please visit the [Explainer Notebook](https://social-data-analysis-and-visualization-final-project.s3.eu-central-1.amazonaws.com/explainer_notebook.html)."
   ]
  },
  {
   "cell_type": "markdown",
   "metadata": {},
   "source": [
    "# The population is being replaced\n",
    "<p style=\"border:2px solid black\"> </p>"
   ]
  },
  {
   "cell_type": "markdown",
   "metadata": {},
   "source": [
    "Mr. [Martin Henriksen](https://da.wikipedia.org/wiki/Martin_Henriksen) has a serious warning to the people of Denmark: the Danish population is being [replaced](https://ditoverblik.dk/martin-henriksen-advarer-befolkningen-udskiftes). Slowly, but steadily, the Danish nation is disappearing, and, if nothing is done, it will soon cease to exist. \n",
    "\n",
    "The numbers presented in his article are truly horrifying: the foreigners or their [descendants](https://www.dst.dk/da/Statistik/emner/befolkning-og-valg/indvandrere-og-efterkommere/indvandrere-og-efterkommere) constituted already in 2019 23.7% of the population in Denmark. Therefore, it is not difficult to imagine that 50 years from now, when many of the pure, noble Danes will have passed away, the country will be populated *solely* by the immigrants, their children, their children's children, their children's children's children, and their children's children's children's children.\n",
    "\n",
    "But what about Copenhagen? Is there any hope left for the capital? Take my hand and let's take a closer look. "
   ]
  },
  {
   "cell_type": "markdown",
   "metadata": {},
   "source": [
    "## Danes vs non-Danes, 2009-2020"
   ]
  },
  {
   "cell_type": "markdown",
   "metadata": {},
   "source": [
    "The graph below illustrates the population of Copenhagen by country of origin in the years 2009 to 2020 based on the data from [Københavns Kommune's bank of statistics](https://www.statistikbanken.dk/FOLK1C). The exact quantities can be viewed by hovering the mouse pointer over the bars."
   ]
  },
  {
   "cell_type": "code",
   "execution_count": null,
   "metadata": {
    "ExecuteTime": {
     "end_time": "2021-05-14T16:13:54.627921Z",
     "start_time": "2021-05-14T16:13:51.060320Z"
    },
    "hide_input": true
   },
   "outputs": [],
   "source": [
    "show_danes_vs_non_danes_pct(\n",
    "    'Figure: Population of Copenhagen by country of origin. '\n",
    "    'The fraction of Danes has diminished from 78.3% in 2009 to 74.3% in 2020.'\n",
    "    'If the trend continues<br>at the rate of 5 percentage points every 11 years, '\n",
    "    'the Danes (as defined by mr. Henriksen) will have been replaced entirely '\n",
    "    'in 2182, i.e. when I will be<BR>celebrating my 200th birthday.',\n",
    "    y=-0.25,\n",
    "    margin=dict(b=110, t=20)\n",
    ")"
   ]
  },
  {
   "cell_type": "markdown",
   "metadata": {
    "ExecuteTime": {
     "end_time": "2021-05-12T09:53:53.478311Z",
     "start_time": "2021-05-12T09:53:53.467345Z"
    }
   },
   "source": [
    "The figure above shows that the fraction of Danes in Copenhagen has diminished from 78.3% in 2009 to 74.3% in 2020. Therefore, it seems that mr. Henriksen's might be well-grounded. We can also deduct through simple linear regression that if the trend continues at the current rate of replacement of 5 ***percentage points*** every 11 years, the Danes (as defined by mr. Henriksen) will have been replaced entirely in 2182, or around the time when I will be celebrating my 200<sup>th</sup> birthday."
   ]
  },
  {
   "cell_type": "markdown",
   "metadata": {},
   "source": [
    "Given my Polish roots, I consider myself a representative of the group which is replacing the Danes. Let's take look at how we stand."
   ]
  },
  {
   "cell_type": "markdown",
   "metadata": {},
   "source": [
    "## Top 10 countries of origin"
   ]
  },
  {
   "cell_type": "markdown",
   "metadata": {},
   "source": [
    "The graph below shows the percentage of the population occupied by the 10 most represented countries of origin in Copenhagen in the years from 2009 to 2020. The height of each bar is directly proportional to the size of the population of the country it represents. Let's see how close Poland is to world domination."
   ]
  },
  {
   "cell_type": "code",
   "execution_count": null,
   "metadata": {
    "ExecuteTime": {
     "end_time": "2021-05-14T16:13:57.745664Z",
     "start_time": "2021-05-14T16:13:54.630911Z"
    },
    "hide_input": true
   },
   "outputs": [],
   "source": [
    "show_top_10_countries_of_origin_all_years(\n",
    "    ('Figure: 10 most represented countries of origin in Copenhagen. '\n",
    "     'In 2020 the most represented countries are: Denmark, Pakistan, Turkey, '\n",
    "     'Iraq, Germany, Poland, Morocco, Sweden,\\nand Lebanon'),\n",
    "    x=.12,\n",
    "    y=0.06)"
   ]
  },
  {
   "cell_type": "markdown",
   "metadata": {
    "hide_input": true
   },
   "source": [
    "Hmm, to be completely honest, it doesn't look too good. Given the seriousness of mr. Henriksen's warning I was hoping we would be a bit closer to taking over control, but me and my Polish comrades come in at a miserable 6th place, and it seems that there is still some way to go before we get to the top. Also, after a thorough visual inspection of the graphs above, I must admit that the overtaking is not going as fast as I have imagined, and the population of the countries behind Denmark doesn't *really* seem to have grown from 2009 to 2020.\n",
    "\n",
    "However, since we are scientists, we can take a more detailed look at the situation in 2020. In the graph below, the exact quantities can be read off by hovering the mouse pointer over the bars."
   ]
  },
  {
   "cell_type": "code",
   "execution_count": null,
   "metadata": {
    "ExecuteTime": {
     "end_time": "2021-05-14T16:13:58.006125Z",
     "start_time": "2021-05-14T16:13:57.747660Z"
    },
    "hide_input": true,
    "scrolled": false
   },
   "outputs": [],
   "source": [
    "show_top_10_countries_of_origin_2020(\n",
    "    'Figure: Top 10 populations in Copenhagen in 2020 by country of origin. '\n",
    "    'Danes constitute 74.29%, the 2<sup>nd</sup> biggest country of origin (Pakistan) 1.39%, '\n",
    "    'and Poland comes in<br>as number 6 at 0.99%',\n",
    "    caption_y=-0.19,\n",
    "    margin=dict(t=10, b=80)\n",
    ")"
   ]
  },
  {
   "cell_type": "markdown",
   "metadata": {},
   "source": [
    "The results are truly discouraging: while Denmark sits on 74.29% on the population, the 2<sup>nd</sup> biggest country of origin (Pakistan) comes in at a measly 1.39%, while the Great Republic of Poland falls below 1% at 0.99%. That means that to even get up to 10% of the size of the Danes, we would have to join forces with the Pakistanis, Turks, Iraqis, Germans, Somalis, and Swedes, which might propose some challenges due to different traditions of celebrating Christmas. \n",
    "\n",
    "Therefore, replacing the Danish population and taking over Copenhagen might be a more difficult task than initially assumed, mostly due to the challenges with maintaining the purity of the replacing group. Given the composition of the population in 2020, it is not unreasonable to fear that not only the Danish population, but also the Pakistani, Turkish, Iraqi, German, Polish, Somali, Moroccan, Swedish, and Lebanese populations in Copenhagen are at risk of being replaced by some combination of the mentioned nationalities, or even other countries.\n",
    "\n",
    "So, is all hope lost? Is there nothing we can do? What about the districts? Isn't there a brave area that is putting up a good fight? Let's take a look at the development over the years."
   ]
  },
  {
   "cell_type": "markdown",
   "metadata": {},
   "source": [
    "# The districts succumb\n",
    "<p style=\"border:2px solid black\"> </p>"
   ]
  },
  {
   "cell_type": "markdown",
   "metadata": {},
   "source": [
    "The graph below shows the percentage of the total ***district*** population occupied by people holding Danish, non-western, and western passports. Once again, you can hover over the bars to read-off the exact values."
   ]
  },
  {
   "cell_type": "code",
   "execution_count": null,
   "metadata": {
    "ExecuteTime": {
     "end_time": "2021-05-14T16:13:58.565654Z",
     "start_time": "2021-05-14T16:13:58.008120Z"
    },
    "hide_input": true,
    "scrolled": false
   },
   "outputs": [],
   "source": [
    "population_by_citizenship_vs_district(\n",
    "    ('Figure: percentage of the total district population occupied by people with Danish, '\n",
    "     'non-western, and western passports. Since Nørrebro is<br>already lost, there are only three districts '\n",
    "     'in which there is still sone hope for the Danish nation: Vanløse, Østerbro, and Amager Øst.'),\n",
    "    caption_y=-0.42,\n",
    "    margin=dict(b=140)\n",
    ")"
   ]
  },
  {
   "cell_type": "markdown",
   "metadata": {},
   "source": [
    "It seems that Vanløse is putting up a good fight with 88.2% of the citizens holding a Danish passport. Østerbro comes in at a strong second with 85.4%, Amager Øst is third with 84.8%, and Nørrebro fourth with 84.5% Danish citizens. So, since [Nørrebro is already lost](https://www.berlingske.dk/kommentatorer/pernille-vermund-noerrebro-er-tabt), that means we only have three districts left in Copenhagen where there is still might be shred of hope for the Danish nation: **Vanløse**, **Østerbro**, and **Amager Øst**.\n",
    "\n",
    "But wait a second. How do these numbers add up to the 23.7% immigrants that mr. Henriksen was talking about? Well, it seems that some people are simply manipulating the statistics to make the situation look less dramatic than it really is: in the graph above, we are counting all Danish *citizens* as Danes. But let's be honest: we all know that they are not *really* Danes. That's why we in Denmark have official ways to categorize the citizens that better reflect the reality, and otherwise in no way resemble something we have seen before:\n",
    "\n",
    "![Invandrere og efterkommere](https://www.dst.dk/-/media/Kontorer/01-Befolkning/Herkomst_definition_Piktogram.jpg?h=900&w=900&la=da)\n",
    "\n",
    "As we can see, we can first consider a person a Dane when one of their parents is *both* a Danish citizen *and* born in Denmark. Luckily, if you are a decent human being, [getting the citizenship is easy](https://uim.dk/arbejdsomrader/statsborgerskab/udenlandske-statsborgere/betingelser), and, once you get it, there is a good chance you will be able to keep it. For, as our Prime Minister Mette Frederiksen [puts it](https://www.stm.dk/statsministeren/indlaeg/var-det-ikke-for-de-internationale-konventioner-ville-vi-goere-tildelt-statsborgerskab-betinget/): *the international conventions unfortunately set a narrow framework for deprivation of citizenship*.\n",
    "\n",
    "Luckily, me and my wife have managed to return from our vacation in Italy just in time for my daughters birth, so already her children might in the future be considered a true part of the Danish society, if they only manage to steer free of [refugee camps](https://www.berlingske.dk/samfund/mette-frederiksen-vil-fortsat-ikke-hjaelpe-danske-boern-i-syrien-det-er).\n",
    "\n",
    "But has the situation always been this bad? Let's take a look at how the percentage of non-Danes has developed over time:"
   ]
  },
  {
   "cell_type": "code",
   "execution_count": null,
   "metadata": {
    "ExecuteTime": {
     "end_time": "2021-05-14T19:17:32.343818Z",
     "start_time": "2021-05-14T19:17:08.856906Z"
    },
    "hide_input": true
   },
   "outputs": [],
   "source": [
    "show_pct_non_danes_over_time(\n",
    "    group='all',\n",
    "    caption=('Figure: Percentage of non-Danes in different district over time. '\n",
    "             'Red color represents danger. As we see, most district are already '\n",
    "             'orange, passing the threshold of 15 %'),\n",
    "    caption_y=-0.05,\n",
    "    margin=dict(r=0,\n",
    "                t=30,\n",
    "                l=0,\n",
    "                b=0),\n",
    "    range_color=(0, 25)\n",
    ")"
   ]
  },
  {
   "cell_type": "markdown",
   "metadata": {},
   "source": [
    "We can see that in 1980 the world was a much better place, and there were very few people in Copenhagen holding a foreign passport. Back then, Vesterbro was the top-scorer at 9.6%. 40 years later, the percentage of non-Danes at Versterbro has risen to 18.1%. Therefore, if the trend continues at the rate of replacement of 8.5% in 40 years, there will be no Danes at Vesterbro in 2405. The situation, however, is much worse in Bispebjerg, where the percentage of foreigners has risen from 3.6% to 20.8% in the same period, leaving us with a prospect of Dane - free Bispebjerg already in 2203.\n",
    "\n",
    "Please note that in some places the same version of this map has been manipulated to tone down the danger by changing the color range to run from 0 to 100%, in which case the animation will look as follows:"
   ]
  },
  {
   "cell_type": "code",
   "execution_count": null,
   "metadata": {
    "ExecuteTime": {
     "end_time": "2021-05-14T19:29:52.963108Z",
     "start_time": "2021-05-14T19:29:37.190810Z"
    },
    "hide_input": true
   },
   "outputs": [],
   "source": [
    "show_pct_non_danes_over_time(\n",
    "    group='all',\n",
    "    caption=('Figure: The manipulated version of the graph above, where the color range '\n",
    "             'has been set to run from 0 to 100%. These kind of manipulations are common '\n",
    "             'among those who want to tone<br>down the dangers of immigration.'),\n",
    "    caption_y=-0.1,\n",
    "    margin=dict(r=0,\n",
    "                t=30,\n",
    "                l=0,\n",
    "                b=0),\n",
    "    range_color=(0, 100)\n",
    ")"
   ]
  },
  {
   "cell_type": "markdown",
   "metadata": {},
   "source": [
    "However, not all foreigners are equally bad. That's why we have divided them into two groups: Western and non-Western. Let's see where these groups concentrate their efforts."
   ]
  },
  {
   "cell_type": "code",
   "execution_count": null,
   "metadata": {
    "ExecuteTime": {
     "end_time": "2021-05-14T19:38:33.758630Z",
     "start_time": "2021-05-14T19:38:08.716793Z"
    },
    "hide_input": true,
    "scrolled": false
   },
   "outputs": [],
   "source": [
    "show_pct_non_danes_over_time(\n",
    "    group='western',\n",
    "    caption=('Figure: Percentage of Western non-Danes in different district over time. '\n",
    "             'Red color represents danger. As we see, the western immigrants are taking '\n",
    "             'over central Copenhagen'),\n",
    "    caption_y=-0.05,\n",
    "    margin=dict(r=0,\n",
    "                t=30,\n",
    "                l=0,\n",
    "                b=0),\n",
    "    range_color=(0, 25)\n",
    ")"
   ]
  },
  {
   "cell_type": "markdown",
   "metadata": {},
   "source": [
    "It seems that the western foreigners are taking over the central Copenhagen. But what about the non-Western?"
   ]
  },
  {
   "cell_type": "code",
   "execution_count": null,
   "metadata": {
    "ExecuteTime": {
     "end_time": "2021-05-14T19:45:58.837635Z",
     "start_time": "2021-05-14T19:45:43.512967Z"
    },
    "hide_input": true
   },
   "outputs": [],
   "source": [
    "show_pct_non_danes_over_time(\n",
    "    group='non-western',\n",
    "    caption=('Figure: Percentage of non-Western non-Danes in different district over time. '\n",
    "             'Red color represents danger. As we see, the non-western immigrants are taking '\n",
    "             'over Bispebjerg and<br>Brønshøj-Husum.'),\n",
    "    caption_y=-0.1,\n",
    "    margin=dict(r=0,\n",
    "                t=30,\n",
    "                l=0,\n",
    "                b=0),\n",
    "    range_color=(0, 25)\n",
    ")"
   ]
  },
  {
   "cell_type": "markdown",
   "metadata": {},
   "source": [
    "So the non-Western immigrants are taking over Bispebjerg and Brønshøj-Husum. Which are kind of far away. So maybe it is not such a big problem after all?"
   ]
  },
  {
   "cell_type": "markdown",
   "metadata": {},
   "source": [
    "# Thank you\n",
    "<p style=\"border:2px solid black\"> </p>"
   ]
  },
  {
   "cell_type": "markdown",
   "metadata": {},
   "source": [
    "Thank you for joining me in this quest to uncover the inconvenient truth about the upcoming dawn of the Danish nation, which has been brought to light thanks to the courage of one brave man: Martin Henriksen. So Martin, if you are reading this, I would like to use the occasion to express my deepest gratitude. On behalf of Denmark and all of us together: thank you."
   ]
  }
 ],
 "metadata": {
  "hide_input": false,
  "kernelspec": {
   "display_name": "PyCharm (Exercises)",
   "language": "python",
   "name": "pycharm-f0629d26"
  },
  "language_info": {
   "codemirror_mode": {
    "name": "ipython",
    "version": 3
   },
   "file_extension": ".py",
   "mimetype": "text/x-python",
   "name": "python",
   "nbconvert_exporter": "python",
   "pygments_lexer": "ipython3",
   "version": "3.8.5"
  },
  "toc": {
   "base_numbering": 1,
   "nav_menu": {},
   "number_sections": true,
   "sideBar": true,
   "skip_h1_title": false,
   "title_cell": "Table of Contents",
   "title_sidebar": "Contents",
   "toc_cell": true,
   "toc_position": {
    "height": "calc(100% - 180px)",
    "left": "10px",
    "top": "150px",
    "width": "281px"
   },
   "toc_section_display": true,
   "toc_window_display": true
  },
  "widgets": {
   "application/vnd.jupyter.widget-state+json": {
    "state": {
     "093e89bffde74c5a8863a1d8ffe0bb66": {
      "model_module": "@jupyter-widgets/controls",
      "model_module_version": "1.5.0",
      "model_name": "DescriptionStyleModel",
      "state": {
       "description_width": ""
      }
     },
     "1a5365fd770e464891fe02b94cb34b95": {
      "model_module": "@jupyter-widgets/base",
      "model_module_version": "1.2.0",
      "model_name": "LayoutModel",
      "state": {}
     },
     "1c7a498865af41a1bd4af63eca07bd28": {
      "model_module": "@jupyter-widgets/controls",
      "model_module_version": "1.5.0",
      "model_name": "FloatTextModel",
      "state": {
       "layout": "IPY_MODEL_68759d18977d4757ba3eb3cf81aa1129",
       "step": null,
       "style": "IPY_MODEL_feea9000784940f3b601fd1ba613dd31"
      }
     },
     "1ee2806f2e314951b8b42666540f6aee": {
      "model_module": "@jupyter-widgets/base",
      "model_module_version": "1.2.0",
      "model_name": "LayoutModel",
      "state": {}
     },
     "371339a327cc48d8a56358f512674975": {
      "model_module": "@jupyter-widgets/base",
      "model_module_version": "1.2.0",
      "model_name": "LayoutModel",
      "state": {}
     },
     "65604f719f9e41f3b6d495d3aa907529": {
      "model_module": "@jupyter-widgets/controls",
      "model_module_version": "1.5.0",
      "model_name": "SliderStyleModel",
      "state": {
       "description_width": ""
      }
     },
     "68759d18977d4757ba3eb3cf81aa1129": {
      "model_module": "@jupyter-widgets/base",
      "model_module_version": "1.2.0",
      "model_name": "LayoutModel",
      "state": {}
     },
     "68dd48c190fe4b8c92790dc65803d785": {
      "model_module": "@jupyter-widgets/controls",
      "model_module_version": "1.5.0",
      "model_name": "DropdownModel",
      "state": {
       "_options_labels": [
        "One",
        "Two",
        "Three"
       ],
       "description": "Number:",
       "index": 1,
       "layout": "IPY_MODEL_371339a327cc48d8a56358f512674975",
       "style": "IPY_MODEL_89e645fe88da40b2890bc1c08b50be78"
      }
     },
     "839595af423541ef946ce08e437e5b7e": {
      "model_module": "@jupyter-widgets/controls",
      "model_module_version": "1.5.0",
      "model_name": "DescriptionStyleModel",
      "state": {
       "description_width": ""
      }
     },
     "89e645fe88da40b2890bc1c08b50be78": {
      "model_module": "@jupyter-widgets/controls",
      "model_module_version": "1.5.0",
      "model_name": "DescriptionStyleModel",
      "state": {
       "description_width": ""
      }
     },
     "9091258d01434bf8ac0f41c12363e6a8": {
      "model_module": "@jupyter-widgets/controls",
      "model_module_version": "1.5.0",
      "model_name": "FloatTextModel",
      "state": {
       "layout": "IPY_MODEL_c22c18c67fe24f06ada7d28e3cb6ff90",
       "step": null,
       "style": "IPY_MODEL_839595af423541ef946ce08e437e5b7e"
      }
     },
     "afadc0b9a4f3458685319c1818955895": {
      "model_module": "@jupyter-widgets/controls",
      "model_module_version": "1.5.0",
      "model_name": "DropdownModel",
      "state": {
       "_options_labels": [
        "One",
        "Two",
        "Three"
       ],
       "description": "Number:",
       "index": 1,
       "layout": "IPY_MODEL_1ee2806f2e314951b8b42666540f6aee",
       "style": "IPY_MODEL_093e89bffde74c5a8863a1d8ffe0bb66"
      }
     },
     "c22c18c67fe24f06ada7d28e3cb6ff90": {
      "model_module": "@jupyter-widgets/base",
      "model_module_version": "1.2.0",
      "model_name": "LayoutModel",
      "state": {}
     },
     "c64dd728486c4d4396b6b2b4a02ca054": {
      "model_module": "@jupyter-widgets/controls",
      "model_module_version": "1.5.0",
      "model_name": "FloatSliderModel",
      "state": {
       "layout": "IPY_MODEL_1a5365fd770e464891fe02b94cb34b95",
       "step": 0.1,
       "style": "IPY_MODEL_ff2f617f26294276834c51733d0f253c"
      }
     },
     "d7c60be1aeb643fe9d80a622e61b4cc2": {
      "model_module": "@jupyter-widgets/base",
      "model_module_version": "1.2.0",
      "model_name": "LayoutModel",
      "state": {}
     },
     "fe21ecb1be5e431c9745cf04421dc9a0": {
      "model_module": "@jupyter-widgets/controls",
      "model_module_version": "1.5.0",
      "model_name": "FloatSliderModel",
      "state": {
       "layout": "IPY_MODEL_d7c60be1aeb643fe9d80a622e61b4cc2",
       "step": 0.1,
       "style": "IPY_MODEL_65604f719f9e41f3b6d495d3aa907529",
       "value": 55.4
      }
     },
     "feea9000784940f3b601fd1ba613dd31": {
      "model_module": "@jupyter-widgets/controls",
      "model_module_version": "1.5.0",
      "model_name": "DescriptionStyleModel",
      "state": {
       "description_width": ""
      }
     },
     "ff2f617f26294276834c51733d0f253c": {
      "model_module": "@jupyter-widgets/controls",
      "model_module_version": "1.5.0",
      "model_name": "SliderStyleModel",
      "state": {
       "description_width": ""
      }
     }
    },
    "version_major": 2,
    "version_minor": 0
   }
  }
 },
 "nbformat": 4,
 "nbformat_minor": 1
}
